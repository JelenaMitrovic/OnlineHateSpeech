{
 "cells": [
  {
   "cell_type": "markdown",
   "metadata": {},
   "source": [
    "# Find a list of subreddits, both hateful & not hateful, on which to base my text analysis & model on online hate speech.\n",
    "# Working from a ~30GB SQLite database made available by Kaggle.com which includes all comments from reddit.com in May 2015."
   ]
  },
  {
   "cell_type": "markdown",
   "metadata": {},
   "source": [
    "## Looking at sqlite db to see if potentially hateful subreddits have enough/the right kind of data."
   ]
  },
  {
   "cell_type": "code",
   "execution_count": 26,
   "metadata": {
    "collapsed": false
   },
   "outputs": [],
   "source": [
    "import sqlite3\n",
    "from IPython.display import clear_output\n",
    "\n",
    "sqlite_file = '/Volumes/ja2/ja2_RedditProject/Data/database.sqlite'"
   ]
  },
  {
   "cell_type": "code",
   "execution_count": 27,
   "metadata": {
    "collapsed": true
   },
   "outputs": [],
   "source": [
    "# Set up connection to database\n",
    "\n",
    "conn = sqlite3.connect(sqlite_file)\n",
    "c = conn.cursor()"
   ]
  },
  {
   "cell_type": "code",
   "execution_count": 28,
   "metadata": {
    "collapsed": false
   },
   "outputs": [
    {
     "data": {
      "text/plain": [
       "<sqlite3.Cursor at 0x107cfd490>"
      ]
     },
     "execution_count": 28,
     "metadata": {},
     "output_type": "execute_result"
    }
   ],
   "source": [
    "c"
   ]
  },
  {
   "cell_type": "code",
   "execution_count": 29,
   "metadata": {
    "collapsed": true
   },
   "outputs": [],
   "source": [
    "# a list of the potentially hateful subreddits to examine; originally started with examining ~70 subreddits\n",
    "# do the subreddits contain: any comments? hateful comments? \n",
    "\n",
    "subreddits = ['Race_reality', 'Racism_immigration', \n",
    "             'WhitesWinFights', 'rapingwomen', 'BeatingWomen2', 'SlutJustice',\n",
    "              'StruggleFucking', 'TheRedPill', 'SexyAbortions', 'CuteFemaleCorpses',\n",
    "              'RedPillWomen', 'marriedredpill', 'KotakuInAction', 'IslamUnveiled', \n",
    "              'GasTheKikes', 'KikeTown', 'AntiPOZi', 'Awwschwitz', 'Polistan', 'Trans_fags',\n",
    "              'DarkEnlightenment', 'fatpeoplehate', 'HamPlanetHatred', 'HamPlanets', \n",
    "              'skinnyfathate', 'TalesofFatHate', 'FatNiggerHate', 'FatPeopleFallingOver',\n",
    "              'AdiposeAmigos', 'fatlogic', '4chan', 'european', 'NegroFree','Race_Realism'\n",
    "             ]\n"
   ]
  },
  {
   "cell_type": "code",
   "execution_count": 30,
   "metadata": {
    "collapsed": false
   },
   "outputs": [],
   "source": [
    "# Build up list of queries\n",
    "# Can change LIMIT # to show more or fewer comments\n",
    "\n",
    "queries = []\n",
    "for name in subreddits:\n",
    "    queries.append(\"SELECT body FROM May2015 WHERE subreddit = '\" +name+ \"' LIMIT 30;\")\n"
   ]
  },
  {
   "cell_type": "code",
   "execution_count": 31,
   "metadata": {
    "collapsed": false
   },
   "outputs": [
    {
     "data": {
      "text/plain": [
       "[\"SELECT body FROM May2015 WHERE subreddit = 'Race_Realism' LIMIT 30;\",\n",
       " \"SELECT body FROM May2015 WHERE subreddit = 'Race_reality' LIMIT 30;\",\n",
       " \"SELECT body FROM May2015 WHERE subreddit = 'Racism_immigration' LIMIT 30;\",\n",
       " \"SELECT body FROM May2015 WHERE subreddit = 'WhitesWinFights' LIMIT 30;\",\n",
       " \"SELECT body FROM May2015 WHERE subreddit = 'rapingwomen' LIMIT 30;\",\n",
       " \"SELECT body FROM May2015 WHERE subreddit = 'BeatingWomen2' LIMIT 30;\",\n",
       " \"SELECT body FROM May2015 WHERE subreddit = 'SlutJustice' LIMIT 30;\",\n",
       " \"SELECT body FROM May2015 WHERE subreddit = 'StruggleFucking' LIMIT 30;\",\n",
       " \"SELECT body FROM May2015 WHERE subreddit = 'TheRedPill' LIMIT 30;\",\n",
       " \"SELECT body FROM May2015 WHERE subreddit = 'SexyAbortions' LIMIT 30;\",\n",
       " \"SELECT body FROM May2015 WHERE subreddit = 'CuteFemaleCorpses' LIMIT 30;\",\n",
       " \"SELECT body FROM May2015 WHERE subreddit = 'RedPillWomen' LIMIT 30;\",\n",
       " \"SELECT body FROM May2015 WHERE subreddit = 'marriedredpill' LIMIT 30;\",\n",
       " \"SELECT body FROM May2015 WHERE subreddit = 'KotakuInAction' LIMIT 30;\",\n",
       " \"SELECT body FROM May2015 WHERE subreddit = 'IslamUnveiled' LIMIT 30;\",\n",
       " \"SELECT body FROM May2015 WHERE subreddit = 'GasTheKikes' LIMIT 30;\",\n",
       " \"SELECT body FROM May2015 WHERE subreddit = 'KikeTown' LIMIT 30;\",\n",
       " \"SELECT body FROM May2015 WHERE subreddit = 'AntiPOZi' LIMIT 30;\",\n",
       " \"SELECT body FROM May2015 WHERE subreddit = 'Awwschwitz' LIMIT 30;\",\n",
       " \"SELECT body FROM May2015 WHERE subreddit = 'Polistan' LIMIT 30;\",\n",
       " \"SELECT body FROM May2015 WHERE subreddit = 'Trans_fags' LIMIT 30;\",\n",
       " \"SELECT body FROM May2015 WHERE subreddit = 'DarkEnlightenment' LIMIT 30;\",\n",
       " \"SELECT body FROM May2015 WHERE subreddit = 'fatpeoplehate' LIMIT 30;\",\n",
       " \"SELECT body FROM May2015 WHERE subreddit = 'HamPlanetHatred' LIMIT 30;\",\n",
       " \"SELECT body FROM May2015 WHERE subreddit = 'HamPlanets' LIMIT 30;\",\n",
       " \"SELECT body FROM May2015 WHERE subreddit = 'skinnyfathate' LIMIT 30;\",\n",
       " \"SELECT body FROM May2015 WHERE subreddit = 'TalesofFatHate' LIMIT 30;\",\n",
       " \"SELECT body FROM May2015 WHERE subreddit = 'FatNiggerHate' LIMIT 30;\",\n",
       " \"SELECT body FROM May2015 WHERE subreddit = 'FatPeopleFallingOver' LIMIT 30;\",\n",
       " \"SELECT body FROM May2015 WHERE subreddit = 'AdiposeAmigos' LIMIT 30;\",\n",
       " \"SELECT body FROM May2015 WHERE subreddit = 'fatlogic' LIMIT 30;\"]"
      ]
     },
     "execution_count": 31,
     "metadata": {},
     "output_type": "execute_result"
    }
   ],
   "source": [
    "# take a look at the queries before running them\n",
    "queries"
   ]
  },
  {
   "cell_type": "code",
   "execution_count": 33,
   "metadata": {
    "collapsed": false,
    "scrolled": false
   },
   "outputs": [],
   "source": [
    "# Output 30 comments from each subreddit listed, to get a sense of comments\n",
    "# Show one set of reddit comments at one time. \n",
    "# Take a look at the comments shown to get a sense if it's appropriate\n",
    "\n",
    "for query in queries:\n",
    "    print query\n",
    "    print\n",
    "    c.execute(query)\n",
    "    all_rows = c.fetchall()\n",
    "    for item in all_rows:\n",
    "        print item\n",
    "        print\n",
    "    raw_input(\"Press enter to continue\")\n",
    "    clear_output()"
   ]
  },
  {
   "cell_type": "markdown",
   "metadata": {
    "collapsed": true
   },
   "source": [
    "## Developed premliminary list of hateful subreddits."
   ]
  },
  {
   "cell_type": "code",
   "execution_count": 41,
   "metadata": {
    "collapsed": true
   },
   "outputs": [],
   "source": [
    "# List of hateful subreddits\n",
    "\n",
    "hateful_srs = ['CoonTown', 'WatchNiggersDie', 'WhiteRights', 'WhiteIdentity',\n",
    "               'WhiteNationalism', 'WhitePeopleRiots', 'Trans_fags', 'SlutJustice',\n",
    "               'TheRedPill','KotakuInAction', 'IslamUnveiled', 'GasTheKikes',\n",
    "               'AntiPOZi', 'fatpeoplehate', 'HamPlanetHatred', 'TalesofFatHate', \n",
    "               'FatNiggerHate'\n",
    "              ]"
   ]
  },
  {
   "cell_type": "markdown",
   "metadata": {
    "collapsed": true
   },
   "source": [
    "## How many comments are in the database for the hateful subreddits?"
   ]
  },
  {
   "cell_type": "code",
   "execution_count": 42,
   "metadata": {
    "collapsed": true
   },
   "outputs": [],
   "source": [
    "#Build up list of queries\n",
    "query_numbers = []\n",
    "for name in hateful_srs:\n",
    "    query_numbers.append(\"SELECT COUNT(*) FROM May2015 WHERE subreddit = '\" +name+ \"' ;\")\n"
   ]
  },
  {
   "cell_type": "code",
   "execution_count": 43,
   "metadata": {
    "collapsed": false
   },
   "outputs": [
    {
     "name": "stdout",
     "output_type": "stream",
     "text": [
      "SELECT COUNT(*) FROM May2015 WHERE subreddit = 'CoonTown' ; \t count = (51979,)\n",
      "SELECT COUNT(*) FROM May2015 WHERE subreddit = 'WatchNiggersDie' ; \t count = (42,)\n",
      "SELECT COUNT(*) FROM May2015 WHERE subreddit = 'WhiteRights' ; \t count = (1352,)\n",
      "SELECT COUNT(*) FROM May2015 WHERE subreddit = 'WhiteIdentity' ; \t count = (24,)\n",
      "SELECT COUNT(*) FROM May2015 WHERE subreddit = 'WhiteNationalism' ; \t count = (87,)\n",
      "SELECT COUNT(*) FROM May2015 WHERE subreddit = 'WhitePeopleRiots' ; \t count = (34,)\n",
      "SELECT COUNT(*) FROM May2015 WHERE subreddit = 'Trans_fags' ; \t count = (2362,)\n",
      "SELECT COUNT(*) FROM May2015 WHERE subreddit = 'SlutJustice' ; \t count = (309,)\n",
      "SELECT COUNT(*) FROM May2015 WHERE subreddit = 'TheRedPill' ; \t count = (59145,)\n",
      "SELECT COUNT(*) FROM May2015 WHERE subreddit = 'KotakuInAction' ; \t count = (128156,)\n",
      "SELECT COUNT(*) FROM May2015 WHERE subreddit = 'IslamUnveiled' ; \t count = (110,)\n",
      "SELECT COUNT(*) FROM May2015 WHERE subreddit = 'GasTheKikes' ; \t count = (919,)\n",
      "SELECT COUNT(*) FROM May2015 WHERE subreddit = 'AntiPOZi' ; \t count = (4740,)\n",
      "SELECT COUNT(*) FROM May2015 WHERE subreddit = 'fatpeoplehate' ; \t count = (311183,)\n",
      "SELECT COUNT(*) FROM May2015 WHERE subreddit = 'HamPlanetHatred' ; \t count = (27,)\n",
      "SELECT COUNT(*) FROM May2015 WHERE subreddit = 'TalesofFatHate' ; \t count = (5239,)\n",
      "SELECT COUNT(*) FROM May2015 WHERE subreddit = 'FatNiggerHate' ; \t count = (49,)\n"
     ]
    }
   ],
   "source": [
    "for query in query_numbers:\n",
    "    c.execute(query)\n",
    "    all_rows = c.fetchall()\n",
    "    for item in all_rows:\n",
    "        print \"{0} \\t count = {1}\".format(query, item)"
   ]
  },
  {
   "cell_type": "markdown",
   "metadata": {},
   "source": [
    "## Exclude subreddits with under 100 comments"
   ]
  },
  {
   "cell_type": "markdown",
   "metadata": {},
   "source": [
    "# Final list of hateful subreddits"
   ]
  },
  {
   "cell_type": "code",
   "execution_count": 45,
   "metadata": {
    "collapsed": true
   },
   "outputs": [],
   "source": [
    "final_hateful_srs = ['CoonTown', 'WhiteRights', 'Trans_fags', 'SlutJustice',\n",
    "               'TheRedPill','KotakuInAction', 'IslamUnveiled', 'GasTheKikes',\n",
    "               'AntiPOZi', 'fatpeoplehate', 'TalesofFatHate']"
   ]
  },
  {
   "cell_type": "code",
   "execution_count": 46,
   "metadata": {
    "collapsed": false
   },
   "outputs": [
    {
     "name": "stdout",
     "output_type": "stream",
     "text": [
      "565494\n"
     ]
    }
   ],
   "source": [
    "# Find the total number of entries available from the final list of hateful subreddits.\n",
    "\n",
    "query_numbers = []\n",
    "for name in final_hateful_srs:\n",
    "    query_numbers.append(\"SELECT COUNT(*) FROM May2015 WHERE subreddit = '\" +name+ \"' ;\")\n",
    "\n",
    "commentcount = 0\n",
    "for query in query_numbers:\n",
    "    c.execute(query)\n",
    "    all_rows = c.fetchall()\n",
    "    for item in all_rows:\n",
    "        commentcount += item[0]\n",
    "\n",
    "print commentcount\n"
   ]
  },
  {
   "cell_type": "markdown",
   "metadata": {},
   "source": [
    "## Identify non-hateful subreddits to compare against.\n",
    "### Want to choose subreddits which cover topics similar to the hateful srs, but do not contain hate speech.\n",
    "### Also include controversial and civil content.\n"
   ]
  },
  {
   "cell_type": "code",
   "execution_count": 49,
   "metadata": {
    "collapsed": true
   },
   "outputs": [],
   "source": [
    "nothate_srs = [ 'politics', 'blackladies', 'blackculture', 'lgbt',\n",
    "               'TransSpace', 'women', 'TwoXChromosomes', 'DebateReligion','religion',\n",
    "               'islam', 'Judaism', 'fatosphere', 'curvygirls', 'BodyAcceptance'\n",
    "                ]"
   ]
  },
  {
   "cell_type": "code",
   "execution_count": 48,
   "metadata": {
    "collapsed": false,
    "scrolled": false
   },
   "outputs": [],
   "source": [
    "# Check content of some of the comments for the not-hate subreddits\n",
    "\n",
    "queries = []\n",
    "for name in nothate_srs:\n",
    "    queries.append(\"SELECT body FROM May2015 WHERE subreddit = '\" +name+ \"' LIMIT 40;\")\n",
    "\n",
    "for query in queries:\n",
    "    print query\n",
    "    print\n",
    "    c.execute(query)\n",
    "    all_rows = c.fetchall()\n",
    "    for item in all_rows:\n",
    "        print item\n",
    "        print\n",
    "    raw_input(\"Press enter to continue\")\n",
    "    clear_output()"
   ]
  },
  {
   "cell_type": "code",
   "execution_count": 51,
   "metadata": {
    "collapsed": false
   },
   "outputs": [
    {
     "name": "stdout",
     "output_type": "stream",
     "text": [
      "SELECT COUNT(*) FROM May2015 WHERE subreddit = 'politics' ;\n",
      "(244927,)\n",
      "SELECT COUNT(*) FROM May2015 WHERE subreddit = 'blackladies' ;\n",
      "(4396,)\n",
      "SELECT COUNT(*) FROM May2015 WHERE subreddit = 'blackculture' ;\n",
      "(26,)\n",
      "SELECT COUNT(*) FROM May2015 WHERE subreddit = 'lgbt' ;\n",
      "(8253,)\n",
      "SELECT COUNT(*) FROM May2015 WHERE subreddit = 'TransSpace' ;\n",
      "(472,)\n",
      "SELECT COUNT(*) FROM May2015 WHERE subreddit = 'women' ;\n",
      "(529,)\n",
      "SELECT COUNT(*) FROM May2015 WHERE subreddit = 'TwoXChromosomes' ;\n",
      "(105130,)\n",
      "SELECT COUNT(*) FROM May2015 WHERE subreddit = 'DebateReligion' ;\n",
      "(41015,)\n",
      "SELECT COUNT(*) FROM May2015 WHERE subreddit = 'religion' ;\n",
      "(2623,)\n",
      "SELECT COUNT(*) FROM May2015 WHERE subreddit = 'islam' ;\n",
      "(25443,)\n",
      "SELECT COUNT(*) FROM May2015 WHERE subreddit = 'Judaism' ;\n",
      "(9103,)\n",
      "SELECT COUNT(*) FROM May2015 WHERE subreddit = 'fatosphere' ;\n",
      "(9,)\n",
      "SELECT COUNT(*) FROM May2015 WHERE subreddit = 'curvygirls' ;\n",
      "(12,)\n",
      "SELECT COUNT(*) FROM May2015 WHERE subreddit = 'BodyAcceptance' ;\n",
      "(579,)\n",
      "442517\n"
     ]
    }
   ],
   "source": [
    "# Find the total number of entries available from the list of non-hateful subreddits.\n",
    "\n",
    "query_numbers = []\n",
    "for name in nothate_srs:\n",
    "    query_numbers.append(\"SELECT COUNT(*) FROM May2015 WHERE subreddit = '\" +name+ \"' ;\")\n",
    "\n",
    "commentcount = 0\n",
    "for query in query_numbers:\n",
    "    print query\n",
    "    c.execute(query)\n",
    "    all_rows = c.fetchall()\n",
    "    for item in all_rows:\n",
    "        print item\n",
    "        commentcount += item[0]\n",
    "\n",
    "print commentcount"
   ]
  },
  {
   "cell_type": "markdown",
   "metadata": {
    "collapsed": true
   },
   "source": [
    "## Exclude subreddits with under 100 comments"
   ]
  },
  {
   "cell_type": "code",
   "execution_count": null,
   "metadata": {
    "collapsed": true
   },
   "outputs": [],
   "source": []
  },
  {
   "cell_type": "markdown",
   "metadata": {},
   "source": [
    "# Final list of not hateful subreddits"
   ]
  },
  {
   "cell_type": "code",
   "execution_count": 1,
   "metadata": {
    "collapsed": true
   },
   "outputs": [],
   "source": [
    "# List of not hateful subreddits\n",
    "final_nothate_srs = [ 'politics', 'blackladies', 'lgbt',\n",
    "               'TransSpace', 'women', 'TwoXChromosomes', 'DebateReligion','religion',\n",
    "               'islam', 'Judaism', 'BodyAcceptance'\n",
    "                ]"
   ]
  },
  {
   "cell_type": "code",
   "execution_count": null,
   "metadata": {
    "collapsed": true
   },
   "outputs": [],
   "source": []
  },
  {
   "cell_type": "code",
   "execution_count": null,
   "metadata": {
    "collapsed": true
   },
   "outputs": [],
   "source": []
  },
  {
   "cell_type": "code",
   "execution_count": null,
   "metadata": {
    "collapsed": true
   },
   "outputs": [],
   "source": []
  },
  {
   "cell_type": "code",
   "execution_count": null,
   "metadata": {
    "collapsed": true
   },
   "outputs": [],
   "source": []
  },
  {
   "cell_type": "code",
   "execution_count": 22,
   "metadata": {
    "collapsed": true
   },
   "outputs": [],
   "source": [
    "# Don't forget to close the connection\n",
    "conn.close()"
   ]
  },
  {
   "cell_type": "code",
   "execution_count": null,
   "metadata": {
    "collapsed": true
   },
   "outputs": [],
   "source": []
  }
 ],
 "metadata": {
  "kernelspec": {
   "display_name": "Python 2",
   "language": "python",
   "name": "python2"
  },
  "language_info": {
   "codemirror_mode": {
    "name": "ipython",
    "version": 2
   },
   "file_extension": ".py",
   "mimetype": "text/x-python",
   "name": "python",
   "nbconvert_exporter": "python",
   "pygments_lexer": "ipython2",
   "version": "2.7.10"
  }
 },
 "nbformat": 4,
 "nbformat_minor": 0
}
