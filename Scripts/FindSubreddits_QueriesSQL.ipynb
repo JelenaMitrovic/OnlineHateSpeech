{
 "cells": [
  {
   "cell_type": "markdown",
   "metadata": {},
   "source": [
    "# Find a list of subreddits, both hateful & not hateful, on which to base my text analysis & model on online hate speech.\n",
    "# Working from a ~30GB SQLite database made available by Kaggle.com which includes all comments from reddit.com in May 2015."
   ]
  },
  {
   "cell_type": "markdown",
   "metadata": {},
   "source": [
    "## Looking at sqlite db to see if potentially hateful subreddits have enough/the right kind of data."
   ]
  },
  {
   "cell_type": "code",
   "execution_count": 1,
   "metadata": {
    "collapsed": false
   },
   "outputs": [],
   "source": [
    "import sqlite3\n",
    "from IPython.display import clear_output\n",
    "\n",
    "sqlite_file = '/Volumes/ja2/ja2_RedditProject/Data/database.sqlite'"
   ]
  },
  {
   "cell_type": "code",
   "execution_count": 2,
   "metadata": {
    "collapsed": true
   },
   "outputs": [],
   "source": [
    "# Set up connection to database\n",
    "\n",
    "conn = sqlite3.connect(sqlite_file)\n",
    "c = conn.cursor()"
   ]
  },
  {
   "cell_type": "code",
   "execution_count": 3,
   "metadata": {
    "collapsed": false
   },
   "outputs": [
    {
     "data": {
      "text/plain": [
       "<sqlite3.Cursor at 0x107c296c0>"
      ]
     },
     "execution_count": 3,
     "metadata": {},
     "output_type": "execute_result"
    }
   ],
   "source": [
    "c"
   ]
  },
  {
   "cell_type": "code",
   "execution_count": 4,
   "metadata": {
    "collapsed": true
   },
   "outputs": [],
   "source": [
    "# a list of the potentially hateful subreddits to examine; originally started with examining ~70 subreddits\n",
    "# do the subreddits contain: any comments? hateful comments? \n",
    "\n",
    "subreddits = ['Race_reality', 'Racism_immigration', \n",
    "             'WhitesWinFights', 'rapingwomen', 'BeatingWomen2', 'SlutJustice',\n",
    "              'StruggleFucking', 'TheRedPill', 'SexyAbortions', 'CuteFemaleCorpses',\n",
    "              'RedPillWomen', 'marriedredpill', 'KotakuInAction', 'IslamUnveiled', \n",
    "              'GasTheKikes', 'KikeTown', 'AntiPOZi', 'Awwschwitz', 'Polistan', 'Trans_fags',\n",
    "              'DarkEnlightenment', 'fatpeoplehate', 'HamPlanetHatred', 'HamPlanets', \n",
    "              'skinnyfathate', 'TalesofFatHate', 'FatNiggerHate', 'FatPeopleFallingOver',\n",
    "              'AdiposeAmigos', 'fatlogic', '4chan', 'european', 'NegroFree','Race_Realism'\n",
    "             ]\n"
   ]
  },
  {
   "cell_type": "code",
   "execution_count": 5,
   "metadata": {
    "collapsed": false
   },
   "outputs": [],
   "source": [
    "# Build up list of queries\n",
    "# Can change LIMIT # to show more or fewer comments\n",
    "\n",
    "queries = []\n",
    "for name in subreddits:\n",
    "    queries.append(\"SELECT body FROM May2015 WHERE subreddit = '\" +name+ \"' ORDER BY Random() LIMIT 30;\")\n"
   ]
  },
  {
   "cell_type": "code",
   "execution_count": 6,
   "metadata": {
    "collapsed": false
   },
   "outputs": [
    {
     "data": {
      "text/plain": [
       "[\"SELECT body FROM May2015 WHERE subreddit = 'Race_reality' ORDER BY Random() LIMIT 30;\",\n",
       " \"SELECT body FROM May2015 WHERE subreddit = 'Racism_immigration' ORDER BY Random() LIMIT 30;\",\n",
       " \"SELECT body FROM May2015 WHERE subreddit = 'WhitesWinFights' ORDER BY Random() LIMIT 30;\",\n",
       " \"SELECT body FROM May2015 WHERE subreddit = 'rapingwomen' ORDER BY Random() LIMIT 30;\",\n",
       " \"SELECT body FROM May2015 WHERE subreddit = 'BeatingWomen2' ORDER BY Random() LIMIT 30;\",\n",
       " \"SELECT body FROM May2015 WHERE subreddit = 'SlutJustice' ORDER BY Random() LIMIT 30;\",\n",
       " \"SELECT body FROM May2015 WHERE subreddit = 'StruggleFucking' ORDER BY Random() LIMIT 30;\",\n",
       " \"SELECT body FROM May2015 WHERE subreddit = 'TheRedPill' ORDER BY Random() LIMIT 30;\",\n",
       " \"SELECT body FROM May2015 WHERE subreddit = 'SexyAbortions' ORDER BY Random() LIMIT 30;\",\n",
       " \"SELECT body FROM May2015 WHERE subreddit = 'CuteFemaleCorpses' ORDER BY Random() LIMIT 30;\",\n",
       " \"SELECT body FROM May2015 WHERE subreddit = 'RedPillWomen' ORDER BY Random() LIMIT 30;\",\n",
       " \"SELECT body FROM May2015 WHERE subreddit = 'marriedredpill' ORDER BY Random() LIMIT 30;\",\n",
       " \"SELECT body FROM May2015 WHERE subreddit = 'KotakuInAction' ORDER BY Random() LIMIT 30;\",\n",
       " \"SELECT body FROM May2015 WHERE subreddit = 'IslamUnveiled' ORDER BY Random() LIMIT 30;\",\n",
       " \"SELECT body FROM May2015 WHERE subreddit = 'GasTheKikes' ORDER BY Random() LIMIT 30;\",\n",
       " \"SELECT body FROM May2015 WHERE subreddit = 'KikeTown' ORDER BY Random() LIMIT 30;\",\n",
       " \"SELECT body FROM May2015 WHERE subreddit = 'AntiPOZi' ORDER BY Random() LIMIT 30;\",\n",
       " \"SELECT body FROM May2015 WHERE subreddit = 'Awwschwitz' ORDER BY Random() LIMIT 30;\",\n",
       " \"SELECT body FROM May2015 WHERE subreddit = 'Polistan' ORDER BY Random() LIMIT 30;\",\n",
       " \"SELECT body FROM May2015 WHERE subreddit = 'Trans_fags' ORDER BY Random() LIMIT 30;\",\n",
       " \"SELECT body FROM May2015 WHERE subreddit = 'DarkEnlightenment' ORDER BY Random() LIMIT 30;\",\n",
       " \"SELECT body FROM May2015 WHERE subreddit = 'fatpeoplehate' ORDER BY Random() LIMIT 30;\",\n",
       " \"SELECT body FROM May2015 WHERE subreddit = 'HamPlanetHatred' ORDER BY Random() LIMIT 30;\",\n",
       " \"SELECT body FROM May2015 WHERE subreddit = 'HamPlanets' ORDER BY Random() LIMIT 30;\",\n",
       " \"SELECT body FROM May2015 WHERE subreddit = 'skinnyfathate' ORDER BY Random() LIMIT 30;\",\n",
       " \"SELECT body FROM May2015 WHERE subreddit = 'TalesofFatHate' ORDER BY Random() LIMIT 30;\",\n",
       " \"SELECT body FROM May2015 WHERE subreddit = 'FatNiggerHate' ORDER BY Random() LIMIT 30;\",\n",
       " \"SELECT body FROM May2015 WHERE subreddit = 'FatPeopleFallingOver' ORDER BY Random() LIMIT 30;\",\n",
       " \"SELECT body FROM May2015 WHERE subreddit = 'AdiposeAmigos' ORDER BY Random() LIMIT 30;\",\n",
       " \"SELECT body FROM May2015 WHERE subreddit = 'fatlogic' ORDER BY Random() LIMIT 30;\",\n",
       " \"SELECT body FROM May2015 WHERE subreddit = '4chan' ORDER BY Random() LIMIT 30;\",\n",
       " \"SELECT body FROM May2015 WHERE subreddit = 'european' ORDER BY Random() LIMIT 30;\",\n",
       " \"SELECT body FROM May2015 WHERE subreddit = 'NegroFree' ORDER BY Random() LIMIT 30;\",\n",
       " \"SELECT body FROM May2015 WHERE subreddit = 'Race_Realism' ORDER BY Random() LIMIT 30;\"]"
      ]
     },
     "execution_count": 6,
     "metadata": {},
     "output_type": "execute_result"
    }
   ],
   "source": [
    "# take a look at the queries before running them\n",
    "queries"
   ]
  },
  {
   "cell_type": "code",
   "execution_count": null,
   "metadata": {
    "collapsed": false,
    "scrolled": false
   },
   "outputs": [
    {
     "name": "stdout",
     "output_type": "stream",
     "text": [
      "SELECT body FROM May2015 WHERE subreddit = 'SlutJustice' ORDER BY Random() LIMIT 30;\n",
      "\n",
      "(u'Lol, they must have gotten quite a few messages from people suffering from \"PTSD\" due to the bot reminding them that all actions have consequences.',)\n",
      "\n",
      "(u'encouraging sluttery and mudsharking is worse than doing it',)\n",
      "\n",
      "(u'How come? I don\\'t drink, smoke, have a job, work out, don\\'t engage in promiscuous sex, etc.\\n\\nJust because I grew up in a liberal cesspool doesn\\'t mean I\\'m one of them. And while my Ex did have oral sex before and considered herself a virgin, it was with 2 other previous boyfriends. I was the first to actually have vaginal intercourse with her. She actually wouldn\\'t be a slut in many people\\'s minds - my point of my post was the ridiculous presumption that many girls have on virginity and/or their innocence in that as long as the dick doesn\\'t go in their snatch (it can go in their ass or mouth though) then they are still a virgin.\\n\\nI live a more disciplined lifestyle than 99% of America. The time period I was talking about was 8 months in college. If my writing style and emotionally charged speech turned you off it wasn\\'t meant too. I\\'m just sick of the retardation of so many girls, including the so called \"educated\" and \"intelligent\" ones who are usually huge whores regardless of whatever Ivy school they went too.',)\n",
      "\n",
      "(u\"This cunt is too fucking retarded for words. What a deceptive little bitch looking for reinforcement from a bunch of anonymous fucktards on reddit. Holllleeee sheeeeiiittt\\n\\nShe'll be sucking dicks for a paycheck in no time and jews will be clapping their hands and waving their menorahs!!! - anoda goyim down da hellhole and into da abyss! Oi vey!\",)\n",
      "\n",
      "(u\"Slut shaming really is a very compassionate act, and it's not just beneficial to the slut. It is beneficial to society as a whole.\",)\n",
      "\n",
      "(u'This is old as fuck and bullshit. Not the same girl. And the \"mix it up\" video was a joke made by a comedy group to fuck with nationalists. ',)\n",
      "\n",
      "(u'Reddit cucklogic is so pathertic. They think life is just one big porno and the guys who defile the most women in the most degrading ways win.\\n\\nhurr durr, ur just jealous because she never goatsed herself and let you jack off into her bowels like she did with those frat guys. y u so jelly bro. peanut butter and jealous! y so insecure bro?\\n\\nThey act like sex is just a matter of extracting physical sensations out of their genitals, but they constantly project JEALOUSY and INSECURITY onto others, the *exact* emotions that real cucks get from their bulls.\\n\\nSlutlord should make /Relationcucks so we can have a forum to document the parallels between \"sex-positive\" faggot redditors, and guys who find dudes off craigslist to fuck their wives.',)\n",
      "\n",
      "(u\"&gt; because no one's worth is determined by their sexual history.\\n\\nA woman's worth as a potential partner is.  I'm sorry.  You have been lied to.  Your best bet is to keep your N count low and find a nice man willing to forgive who also has a high-ish count.   And then, try to make sure your daughters do better.  Good luck.  :)\",)\n",
      "\n",
      "(u\"I don't get it.\",)\n",
      "\n",
      "(u\"Glad you like the sub. Sluts are worthless trash.\\n\\nAs to your criticism of Women in general, they aren't all as you describe them. Women are also in large part a reflection of the men they are with. How you handle them will greatly affect how they treat you, and how they behave in general. In a way that means men contribute to sluttery, and they do. \\n\\nWomen are born followers. They want to follow a strong man, and if they don't have one of those, they'll follow some group. A bad man or a bad group can turn an ordinary woman bad. Too bad modern sexual morality has deteriorated into almost nothing.\",)\n",
      "\n",
      "(u\"If you're implying it's because of my name i'll tell you i follow no religion, born in spain from spanish parents and my actual name is Josep. \\nI just told she had a foursome, did i lie? I don't care what other people does, the problem i have is she decided to fuck around and had a foursome too and now they are defending her because she never actually wanted to. But the fact is she did fuck arround, and i won't say it's a bad or good thing to do, but i personally won't be in a relationship with a woman who acts like that.\",)\n",
      "\n",
      "(u'https://archive.is/5YdUj\\n\\nWill dumb whore ever learn? lol, of course not\\n\\nNewsflash, sluts, if you grant access to your vagina without first securing commitment, then you are a slut, and shall be treated as such. Most men will immediately categorize you as unfit for a relationship and use you for the only thing you will ever be good for: a semen receptacle. ',)\n",
      "\n",
      "(u\"Also it's funny how being drunk supposedly excuses everything. I don't drink much and I've never been totally wasted, but I still just view it as a lame excuse.\",)\n",
      "\n",
      "(u\"Sorry the internet ruined you day. This thread wasn't about me. Go find an argument else where.\",)\n",
      "\n",
      "(u'Spread the gospel!',)\n",
      "\n",
      "(u'He is feeling bad because man, usually, don\\'t like sluts, but the PC brain washed him into thinking he is wrong and it is a terrible person. \\n\\nAlso, i agree with this guy: http://np.reddit.com/r/relationships/comments/35kqye/me_24_m_with_my_gf24_f_1_year_problems_with/cr5es5b\\n\\nWomen usuallly comes with dumb excuses when they do something wrong, men usually just say, \"sorry i was horny\". She fucked because she wanted, not because she was drunk or whatever. \\n',)\n",
      "\n",
      "(u\"&gt; I'm literally at the point where I don't want to fuck women anymore, not because I'm not sexually attracted to them, but because I am so repulsed at what they are now - nothing but fuckholes of corruption, selfishness, and lies. It's fucking sad. I only will talk to virgins now as far as dating goes and I'm not putting up with any bullshit ever again.\\n\\nI've been there.  Avoid porn, stay strong.  \",)\n",
      "\n",
      "(u'I have hard time feeling sorry for her because i despise abortion.  \\n\\nBut anyway, i hope this open her eyes that casual sex leads to nothing. Go and find a husband who loves you and when you are going through hard time, he will be there by your side. ',)\n",
      "\n",
      "(u'hahaha nice. Tatted-up slore wearing a brassiere in public, with \"I fucked this guy\" painted on her abdomen, and you say \"wearing trousers is bad enough\"\\n\\nYou\\'ve found the right sub.',)\n",
      "\n",
      "(u'He is long time friends with her and now she wants a relationship, seems to me that she is just searching for someone to settle down now that she is getting old. When she gets bored, she is gonna fuck some random guy and then say how much she is sorry and that was \"a mistake\" and beg for a second chance. \\n\\nOP needs to dump this bitch as soon as he can and search for a better woman now. ',)\n",
      "\n",
      "(u'Thanks for archiving all that. Great read. ',)\n",
      "\n",
      "(u'Way to play it up to besomething it\\'s not LMFAO.\\n\\nYou can\\'t even quote it right.. She didn\\'t say anything about the number of guys, literally all she said was \"That was the fist time I\\'ve came twice in one go\"',)\n",
      "\n",
      "(u\"going by the average size that's about 5 yards of dick she's had run through her! 30 more (20 if they're blaq ;'D ) and she's got a first down!\",)\n",
      "\n",
      "(u\"Each family, as ideal or terrible as they are, teaches us some invaluable lessons. No need to offer condolences over my having a bad one. Many good things blossom out of manure, no?\\n\\nI agree with you completely. Believing on Christ Jesus changed me through and through. I was never by any means a feminist but I did not live as purely as I do now. I do not believe in works being essential to salvation but my life has closely followed the truth of Paul's assertion that faith without works is dead. Once I accepted His gracious salvation, I *wanted* and *needed* His mercy so that I could be salt and light on His Earth. I have never been happier since I died unto myself.\",)\n",
      "\n",
      "(u\"Updated archive: https://archive.is/ya2bj LOL\\n\\nYeah slut, keep telling yourself you aren't a slut. Post your age and the number of men with carnal knowledge of you, if you dare.\",)\n",
      "\n",
      "(u'As the saying goes, \"It\\'s easier to build strong children than to fix broken men.\"  In the same vein, it is easier to shame sluts and prevent new ones than to rehabilitate a slut.  Every slut shamed is a potential little girl saved from the experiences of /u/sfca and millions of other women.  ',)\n",
      "\n",
      "(u'Men don\\'t want a sexually-experienced woman.   It is one of the very few things that pure survivalist evolution and most religions agree on.   You have been lied to.  The culture is lying to you.   You\\'ve been sold a false bill of goods.   You\\'re setting yourself up for loneliness and/or a failed marriage.  Stop being a slut. \\n\\n&gt; For the record, we talked today and it was as another redditor mentioned: my comment had nothing to do with it. He was insecure about something else\\n\\nLol.  \"I was thinking about something else.\"   Good God.   Are you addicted to eating bullshit?  ',)\n",
      "\n",
      "(u'she really doesn\\'t give a shit, doesn\\'t she? it seems so \"yeah you caught me now fuck off\" the bartender (who might not have known she was taken) had more shame than her\\n\\nI\\'d really like to know how much she demanded when the divorce was filed,if they had a prenup and how well it held up in court .',)\n",
      "\n",
      "(u'AYYY LMAO',)\n",
      "\n",
      "(u\"I see potential in you. Stick around this sub. Let the hate flow through you.\\n\\nBefore you know it, you'll be calling for that harlot's public execution.\",)\n",
      "\n"
     ]
    }
   ],
   "source": [
    "# Output 30 comments from each subreddit listed, to get a sense of comments\n",
    "# Show one set of reddit comments at one time. \n",
    "# Take a look at the comments shown to get a sense if it's appropriate\n",
    "\n",
    "for query in queries:\n",
    "    print query\n",
    "    print\n",
    "    c.execute(query)\n",
    "    all_rows = c.fetchall()\n",
    "    for item in all_rows:\n",
    "        print item\n",
    "        print\n",
    "    raw_input(\"Press enter to continue\")\n",
    "    clear_output()"
   ]
  },
  {
   "cell_type": "markdown",
   "metadata": {
    "collapsed": true
   },
   "source": [
    "## Developed premliminary list of hateful subreddits."
   ]
  },
  {
   "cell_type": "code",
   "execution_count": 41,
   "metadata": {
    "collapsed": true
   },
   "outputs": [],
   "source": [
    "# List of hateful subreddits\n",
    "\n",
    "hateful_srs = ['CoonTown', 'WatchNiggersDie', 'WhiteRights', 'WhiteIdentity',\n",
    "               'WhiteNationalism', 'WhitePeopleRiots', 'Trans_fags', 'SlutJustice',\n",
    "               'TheRedPill','KotakuInAction', 'IslamUnveiled', 'GasTheKikes',\n",
    "               'AntiPOZi', 'fatpeoplehate', 'HamPlanetHatred', 'TalesofFatHate', \n",
    "               'FatNiggerHate'\n",
    "              ]"
   ]
  },
  {
   "cell_type": "markdown",
   "metadata": {
    "collapsed": true
   },
   "source": [
    "## How many comments are in the database for the hateful subreddits?"
   ]
  },
  {
   "cell_type": "code",
   "execution_count": 42,
   "metadata": {
    "collapsed": true
   },
   "outputs": [],
   "source": [
    "#Build up list of queries\n",
    "query_numbers = []\n",
    "for name in hateful_srs:\n",
    "    query_numbers.append(\"SELECT COUNT(*) FROM May2015 WHERE subreddit = '\" +name+ \"' ;\")\n"
   ]
  },
  {
   "cell_type": "code",
   "execution_count": 43,
   "metadata": {
    "collapsed": false
   },
   "outputs": [
    {
     "name": "stdout",
     "output_type": "stream",
     "text": [
      "SELECT COUNT(*) FROM May2015 WHERE subreddit = 'CoonTown' ; \t count = (51979,)\n",
      "SELECT COUNT(*) FROM May2015 WHERE subreddit = 'WatchNiggersDie' ; \t count = (42,)\n",
      "SELECT COUNT(*) FROM May2015 WHERE subreddit = 'WhiteRights' ; \t count = (1352,)\n",
      "SELECT COUNT(*) FROM May2015 WHERE subreddit = 'WhiteIdentity' ; \t count = (24,)\n",
      "SELECT COUNT(*) FROM May2015 WHERE subreddit = 'WhiteNationalism' ; \t count = (87,)\n",
      "SELECT COUNT(*) FROM May2015 WHERE subreddit = 'WhitePeopleRiots' ; \t count = (34,)\n",
      "SELECT COUNT(*) FROM May2015 WHERE subreddit = 'Trans_fags' ; \t count = (2362,)\n",
      "SELECT COUNT(*) FROM May2015 WHERE subreddit = 'SlutJustice' ; \t count = (309,)\n",
      "SELECT COUNT(*) FROM May2015 WHERE subreddit = 'TheRedPill' ; \t count = (59145,)\n",
      "SELECT COUNT(*) FROM May2015 WHERE subreddit = 'KotakuInAction' ; \t count = (128156,)\n",
      "SELECT COUNT(*) FROM May2015 WHERE subreddit = 'IslamUnveiled' ; \t count = (110,)\n",
      "SELECT COUNT(*) FROM May2015 WHERE subreddit = 'GasTheKikes' ; \t count = (919,)\n",
      "SELECT COUNT(*) FROM May2015 WHERE subreddit = 'AntiPOZi' ; \t count = (4740,)\n",
      "SELECT COUNT(*) FROM May2015 WHERE subreddit = 'fatpeoplehate' ; \t count = (311183,)\n",
      "SELECT COUNT(*) FROM May2015 WHERE subreddit = 'HamPlanetHatred' ; \t count = (27,)\n",
      "SELECT COUNT(*) FROM May2015 WHERE subreddit = 'TalesofFatHate' ; \t count = (5239,)\n",
      "SELECT COUNT(*) FROM May2015 WHERE subreddit = 'FatNiggerHate' ; \t count = (49,)\n"
     ]
    }
   ],
   "source": [
    "for query in query_numbers:\n",
    "    c.execute(query)\n",
    "    all_rows = c.fetchall()\n",
    "    for item in all_rows:\n",
    "        print \"{0} \\t count = {1}\".format(query, item)"
   ]
  },
  {
   "cell_type": "markdown",
   "metadata": {},
   "source": [
    "## Exclude subreddits with under 100 comments"
   ]
  },
  {
   "cell_type": "markdown",
   "metadata": {},
   "source": [
    "# Final list of hateful subreddits"
   ]
  },
  {
   "cell_type": "code",
   "execution_count": 45,
   "metadata": {
    "collapsed": true
   },
   "outputs": [],
   "source": [
    "final_hateful_srs = ['CoonTown', 'WhiteRights', 'Trans_fags', 'SlutJustice',\n",
    "               'TheRedPill','KotakuInAction', 'IslamUnveiled', 'GasTheKikes',\n",
    "               'AntiPOZi', 'fatpeoplehate', 'TalesofFatHate']"
   ]
  },
  {
   "cell_type": "code",
   "execution_count": 46,
   "metadata": {
    "collapsed": false
   },
   "outputs": [
    {
     "name": "stdout",
     "output_type": "stream",
     "text": [
      "565494\n"
     ]
    }
   ],
   "source": [
    "# Find the total number of entries available from the final list of hateful subreddits.\n",
    "\n",
    "query_numbers = []\n",
    "for name in final_hateful_srs:\n",
    "    query_numbers.append(\"SELECT COUNT(*) FROM May2015 WHERE subreddit = '\" +name+ \"' ;\")\n",
    "\n",
    "commentcount = 0\n",
    "for query in query_numbers:\n",
    "    c.execute(query)\n",
    "    all_rows = c.fetchall()\n",
    "    for item in all_rows:\n",
    "        commentcount += item[0]\n",
    "\n",
    "print commentcount\n"
   ]
  },
  {
   "cell_type": "markdown",
   "metadata": {},
   "source": [
    "## Identify non-hateful subreddits to compare against.\n",
    "### Want to choose subreddits which cover topics similar to the hateful srs, but do not contain hate speech.\n",
    "### Also include controversial and civil content.\n"
   ]
  },
  {
   "cell_type": "code",
   "execution_count": 49,
   "metadata": {
    "collapsed": true
   },
   "outputs": [],
   "source": [
    "nothate_srs = [ 'politics', 'blackladies', 'blackculture', 'lgbt',\n",
    "               'TransSpace', 'women', 'TwoXChromosomes', 'DebateReligion','religion',\n",
    "               'islam', 'Judaism', 'fatosphere', 'curvygirls', 'BodyAcceptance'\n",
    "                ]"
   ]
  },
  {
   "cell_type": "code",
   "execution_count": 48,
   "metadata": {
    "collapsed": false,
    "scrolled": false
   },
   "outputs": [],
   "source": [
    "# Check content of some of the comments for the not-hate subreddits\n",
    "\n",
    "queries = []\n",
    "for name in nothate_srs:\n",
    "    queries.append(\"SELECT body FROM May2015 WHERE subreddit = '\" +name+ \"' LIMIT 40;\")\n",
    "\n",
    "for query in queries:\n",
    "    print query\n",
    "    print\n",
    "    c.execute(query)\n",
    "    all_rows = c.fetchall()\n",
    "    for item in all_rows:\n",
    "        print item\n",
    "        print\n",
    "    raw_input(\"Press enter to continue\")\n",
    "    clear_output()"
   ]
  },
  {
   "cell_type": "code",
   "execution_count": 51,
   "metadata": {
    "collapsed": false
   },
   "outputs": [
    {
     "name": "stdout",
     "output_type": "stream",
     "text": [
      "SELECT COUNT(*) FROM May2015 WHERE subreddit = 'politics' ;\n",
      "(244927,)\n",
      "SELECT COUNT(*) FROM May2015 WHERE subreddit = 'blackladies' ;\n",
      "(4396,)\n",
      "SELECT COUNT(*) FROM May2015 WHERE subreddit = 'blackculture' ;\n",
      "(26,)\n",
      "SELECT COUNT(*) FROM May2015 WHERE subreddit = 'lgbt' ;\n",
      "(8253,)\n",
      "SELECT COUNT(*) FROM May2015 WHERE subreddit = 'TransSpace' ;\n",
      "(472,)\n",
      "SELECT COUNT(*) FROM May2015 WHERE subreddit = 'women' ;\n",
      "(529,)\n",
      "SELECT COUNT(*) FROM May2015 WHERE subreddit = 'TwoXChromosomes' ;\n",
      "(105130,)\n",
      "SELECT COUNT(*) FROM May2015 WHERE subreddit = 'DebateReligion' ;\n",
      "(41015,)\n",
      "SELECT COUNT(*) FROM May2015 WHERE subreddit = 'religion' ;\n",
      "(2623,)\n",
      "SELECT COUNT(*) FROM May2015 WHERE subreddit = 'islam' ;\n",
      "(25443,)\n",
      "SELECT COUNT(*) FROM May2015 WHERE subreddit = 'Judaism' ;\n",
      "(9103,)\n",
      "SELECT COUNT(*) FROM May2015 WHERE subreddit = 'fatosphere' ;\n",
      "(9,)\n",
      "SELECT COUNT(*) FROM May2015 WHERE subreddit = 'curvygirls' ;\n",
      "(12,)\n",
      "SELECT COUNT(*) FROM May2015 WHERE subreddit = 'BodyAcceptance' ;\n",
      "(579,)\n",
      "442517\n"
     ]
    }
   ],
   "source": [
    "# Find the total number of entries available from the list of non-hateful subreddits.\n",
    "\n",
    "query_numbers = []\n",
    "for name in nothate_srs:\n",
    "    query_numbers.append(\"SELECT COUNT(*) FROM May2015 WHERE subreddit = '\" +name+ \"' ;\")\n",
    "\n",
    "commentcount = 0\n",
    "for query in query_numbers:\n",
    "    print query\n",
    "    c.execute(query)\n",
    "    all_rows = c.fetchall()\n",
    "    for item in all_rows:\n",
    "        print item\n",
    "        commentcount += item[0]\n",
    "\n",
    "print commentcount"
   ]
  },
  {
   "cell_type": "markdown",
   "metadata": {
    "collapsed": true
   },
   "source": [
    "## Exclude subreddits with under 100 comments"
   ]
  },
  {
   "cell_type": "markdown",
   "metadata": {},
   "source": [
    "# Final list of not hateful subreddits"
   ]
  },
  {
   "cell_type": "code",
   "execution_count": 1,
   "metadata": {
    "collapsed": true
   },
   "outputs": [],
   "source": [
    "# List of not hateful subreddits\n",
    "final_nothate_srs = [ 'politics', 'blackladies', 'lgbt',\n",
    "               'TransSpace', 'women', 'TwoXChromosomes', 'DebateReligion','religion',\n",
    "               'islam', 'Judaism', 'BodyAcceptance'\n",
    "                ]"
   ]
  },
  {
   "cell_type": "code",
   "execution_count": null,
   "metadata": {
    "collapsed": true
   },
   "outputs": [],
   "source": []
  },
  {
   "cell_type": "code",
   "execution_count": 22,
   "metadata": {
    "collapsed": true
   },
   "outputs": [],
   "source": [
    "# Don't forget to close the connection\n",
    "conn.close()"
   ]
  }
 ],
 "metadata": {
  "kernelspec": {
   "display_name": "Python 2",
   "language": "python",
   "name": "python2"
  },
  "language_info": {
   "codemirror_mode": {
    "name": "ipython",
    "version": 2
   },
   "file_extension": ".py",
   "mimetype": "text/x-python",
   "name": "python",
   "nbconvert_exporter": "python",
   "pygments_lexer": "ipython2",
   "version": "2.7.10"
  }
 },
 "nbformat": 4,
 "nbformat_minor": 0
}
