{
 "cells": [
  {
   "cell_type": "code",
   "execution_count": 1,
   "metadata": {
    "collapsed": true
   },
   "outputs": [],
   "source": [
    "import cPickle as pickle\n",
    "from sklearn.feature_extraction.text import TfidfVectorizer, HashingVectorizer, CountVectorizer\n",
    "from sklearn.naive_bayes import MultinomialNB\n",
    "from sklearn.ensemble import RandomForestClassifier\n",
    "from sklearn.cross_validation import train_test_split\n",
    "from sklearn.metrics import roc_auc_score, roc_curve, classification_report\n",
    "\n",
    "import numpy as np\n",
    "import pandas as pd"
   ]
  },
  {
   "cell_type": "code",
   "execution_count": 4,
   "metadata": {
    "collapsed": false
   },
   "outputs": [],
   "source": [
    "df = pickle.load(open('../Data/labeledhate_5cats.p', 'rb'))"
   ]
  },
  {
   "cell_type": "code",
   "execution_count": 3,
   "metadata": {
    "collapsed": false
   },
   "outputs": [
    {
     "data": {
      "text/html": [
       "<div>\n",
       "<table border=\"1\" class=\"dataframe\">\n",
       "  <thead>\n",
       "    <tr style=\"text-align: right;\">\n",
       "      <th></th>\n",
       "      <th>subreddit</th>\n",
       "      <th>id</th>\n",
       "      <th>name</th>\n",
       "      <th>body</th>\n",
       "      <th>label</th>\n",
       "    </tr>\n",
       "  </thead>\n",
       "  <tbody>\n",
       "    <tr>\n",
       "      <th>0</th>\n",
       "      <td>CoonTown</td>\n",
       "      <td>cqug92k</td>\n",
       "      <td>t1_cqug92k</td>\n",
       "      <td>&amp;gt;maybe jews\\n\\nnot maybe</td>\n",
       "      <td>RaceHate</td>\n",
       "    </tr>\n",
       "    <tr>\n",
       "      <th>1</th>\n",
       "      <td>CoonTown</td>\n",
       "      <td>cqug9f5</td>\n",
       "      <td>t1_cqug9f5</td>\n",
       "      <td>juh-juh-juh-juh-juh-juh-just cant even</td>\n",
       "      <td>RaceHate</td>\n",
       "    </tr>\n",
       "    <tr>\n",
       "      <th>2</th>\n",
       "      <td>CoonTown</td>\n",
       "      <td>cqug9wy</td>\n",
       "      <td>t1_cqug9wy</td>\n",
       "      <td>I like the idea...have an upvote!</td>\n",
       "      <td>RaceHate</td>\n",
       "    </tr>\n",
       "    <tr>\n",
       "      <th>3</th>\n",
       "      <td>CoonTown</td>\n",
       "      <td>cquga8b</td>\n",
       "      <td>t1_cquga8b</td>\n",
       "      <td>Never underestimate the stupidity of niggers. ...</td>\n",
       "      <td>RaceHate</td>\n",
       "    </tr>\n",
       "    <tr>\n",
       "      <th>4</th>\n",
       "      <td>CoonTown</td>\n",
       "      <td>cquga92</td>\n",
       "      <td>t1_cquga92</td>\n",
       "      <td>Someone has deeper internal issues they have w...</td>\n",
       "      <td>RaceHate</td>\n",
       "    </tr>\n",
       "  </tbody>\n",
       "</table>\n",
       "</div>"
      ],
      "text/plain": [
       "  subreddit       id        name  \\\n",
       "0  CoonTown  cqug92k  t1_cqug92k   \n",
       "1  CoonTown  cqug9f5  t1_cqug9f5   \n",
       "2  CoonTown  cqug9wy  t1_cqug9wy   \n",
       "3  CoonTown  cquga8b  t1_cquga8b   \n",
       "4  CoonTown  cquga92  t1_cquga92   \n",
       "\n",
       "                                                body     label  \n",
       "0                        &gt;maybe jews\\n\\nnot maybe  RaceHate  \n",
       "1             juh-juh-juh-juh-juh-juh-just cant even  RaceHate  \n",
       "2                  I like the idea...have an upvote!  RaceHate  \n",
       "3  Never underestimate the stupidity of niggers. ...  RaceHate  \n",
       "4  Someone has deeper internal issues they have w...  RaceHate  "
      ]
     },
     "execution_count": 3,
     "metadata": {},
     "output_type": "execute_result"
    }
   ],
   "source": [
    "df.head()"
   ]
  },
  {
   "cell_type": "markdown",
   "metadata": {},
   "source": [
    "## Test-train split"
   ]
  },
  {
   "cell_type": "code",
   "execution_count": 5,
   "metadata": {
    "collapsed": false
   },
   "outputs": [],
   "source": [
    "X = df.body"
   ]
  },
  {
   "cell_type": "code",
   "execution_count": 6,
   "metadata": {
    "collapsed": false
   },
   "outputs": [],
   "source": [
    "y = df.label"
   ]
  },
  {
   "cell_type": "code",
   "execution_count": 7,
   "metadata": {
    "collapsed": true
   },
   "outputs": [],
   "source": [
    "X_train, X_test, y_train, y_test = train_test_split(X, y, test_size=0.3, random_state=42)"
   ]
  },
  {
   "cell_type": "code",
   "execution_count": 7,
   "metadata": {
    "collapsed": false
   },
   "outputs": [
    {
     "data": {
      "text/plain": [
       "848185            He's like Poppins from It's always Sunny.\n",
       "917229    As a Londoner thats currently in Cambridge, I ...\n",
       "406707    Ah yes I always forget about aviation. Well th...\n",
       "667836                                            [deleted]\n",
       "979603    Is the Nepal earthquake still a thing? I thoug...\n",
       "Name: body, dtype: object"
      ]
     },
     "execution_count": 7,
     "metadata": {},
     "output_type": "execute_result"
    }
   ],
   "source": [
    "X_train.head()"
   ]
  },
  {
   "cell_type": "code",
   "execution_count": 8,
   "metadata": {
    "collapsed": false
   },
   "outputs": [
    {
     "data": {
      "text/plain": [
       "(473426,)"
      ]
     },
     "execution_count": 8,
     "metadata": {},
     "output_type": "execute_result"
    }
   ],
   "source": [
    "X_test.shape"
   ]
  },
  {
   "cell_type": "markdown",
   "metadata": {},
   "source": [
    "## Start with sk-learn models"
   ]
  },
  {
   "cell_type": "markdown",
   "metadata": {},
   "source": [
    "### Tfidf Vectorizer"
   ]
  },
  {
   "cell_type": "code",
   "execution_count": 6,
   "metadata": {
    "collapsed": true
   },
   "outputs": [],
   "source": [
    "#with \n",
    "tfidf_v = TfidfVectorizer(stop_words='english', decode_error = 'ignore')\n",
    "tfidf_fit = tfidf_v.fit_transform(X_train)\n",
    "#test vector\n",
    "tfidf_fit_test = tfidf_v.transform(X_test)"
   ]
  },
  {
   "cell_type": "code",
   "execution_count": 7,
   "metadata": {
    "collapsed": false
   },
   "outputs": [
    {
     "data": {
      "text/plain": [
       "(289667,)"
      ]
     },
     "execution_count": 7,
     "metadata": {},
     "output_type": "execute_result"
    }
   ],
   "source": [
    "tfidf_v.idf_.shape"
   ]
  },
  {
   "cell_type": "code",
   "execution_count": null,
   "metadata": {
    "collapsed": true
   },
   "outputs": [],
   "source": []
  },
  {
   "cell_type": "markdown",
   "metadata": {},
   "source": [
    "### Count Vectorizer (TF)"
   ]
  },
  {
   "cell_type": "code",
   "execution_count": 8,
   "metadata": {
    "collapsed": false
   },
   "outputs": [],
   "source": [
    "countv = CountVectorizer(decode_error = 'ignore', stop_words = 'english')\n",
    "#Training vector\n",
    "countv_fit = countv.fit_transform(X_train)\n",
    "#test vector\n",
    "countv_fit_test = countv.transform(X_test)"
   ]
  },
  {
   "cell_type": "code",
   "execution_count": 10,
   "metadata": {
    "collapsed": false
   },
   "outputs": [
    {
     "data": {
      "text/plain": [
       "289667"
      ]
     },
     "execution_count": 10,
     "metadata": {},
     "output_type": "execute_result"
    }
   ],
   "source": [
    "len(countv.vocabulary_)"
   ]
  },
  {
   "cell_type": "code",
   "execution_count": 11,
   "metadata": {
    "collapsed": true
   },
   "outputs": [],
   "source": [
    "#Try 2-grams\n",
    "countv2 = CountVectorizer(decode_error = 'ignore', stop_words = 'english', ngram_range=(1,2))\n",
    "countv2_fit = countv2.fit_transform(X_train)\n",
    "#test vector\n",
    "countv2_fit_test = countv2.transform(X_test)"
   ]
  },
  {
   "cell_type": "code",
   "execution_count": 12,
   "metadata": {
    "collapsed": false
   },
   "outputs": [
    {
     "data": {
      "text/plain": [
       "8295421"
      ]
     },
     "execution_count": 12,
     "metadata": {},
     "output_type": "execute_result"
    }
   ],
   "source": [
    "len(countv2.vocabulary_)"
   ]
  },
  {
   "cell_type": "code",
   "execution_count": 17,
   "metadata": {
    "collapsed": false
   },
   "outputs": [
    {
     "data": {
      "text/plain": [
       "{u'tripolitan': 7578374,\n",
       " u'terrorists guardian': 7331194,\n",
       " u'near birth': 4973934,\n",
       " u'louder claiming': 4499130,\n",
       " u'10x market': 24119,\n",
       " u'supposed slimming': 7168258,\n",
       " u'woopdiduuu': 8132981,\n",
       " u'bloqueos': 949159,\n",
       " u'hospitals connecticut': 3595827,\n",
       " u'individualism ability': 3795152,\n",
       " u'administrators focus': 319167,\n",
       " u'unethical makeup': 7698094,\n",
       " u'vs kgb': 7899327,\n",
       " u'want spineless': 7932236,\n",
       " u'boil high': 968080,\n",
       " u'threats crime': 7426370,\n",
       " u'conservatives believe': 1624518,\n",
       " u'wipe fdic': 8094679,\n",
       " u'poor surrounding': 5607389,\n",
       " u'substances homeopathy': 7109191,\n",
       " u'requirement calculated': 6207135,\n",
       " u'unknown ask': 7721578,\n",
       " u'af won': 342652,\n",
       " u'consider does': 1626799,\n",
       " u'58 waist': 163339,\n",
       " u'map guide': 4604533,\n",
       " u'pathetic talking': 5371508,\n",
       " u'reddit bribing': 6074279,\n",
       " u'vet real': 7838771,\n",
       " u'best stabbing': 865822,\n",
       " u'multiple underage': 4913250,\n",
       " u'vet read': 7838770,\n",
       " u'pressure sa': 5715206,\n",
       " u'amendment proves': 443840,\n",
       " u'assertion young': 627012,\n",
       " u'wisdom thy': 8097058,\n",
       " u'slimmer themed': 6778398,\n",
       " u'arguably hysterical': 562273,\n",
       " u'discussing telling': 2164760,\n",
       " u'secret producing': 6517990,\n",
       " u'hormones bad': 3588147,\n",
       " u'specialty build': 6888576,\n",
       " u'danger turkey': 1889620,\n",
       " u'greeks cool': 3266645,\n",
       " u'goods hanging': 3210267,\n",
       " u'recumbent bike': 6071954,\n",
       " u'good groceries': 3204507,\n",
       " u'guarantee receipt': 3312629,\n",
       " u'salt holic': 6408499,\n",
       " u'effort ugh': 2397526,\n",
       " u'slander marked': 6766294,\n",
       " u'went breadth': 8033609,\n",
       " u'intentionally abandoned': 3879643,\n",
       " u'50 legalise': 155300,\n",
       " u'face koch': 2675059,\n",
       " u'interests west': 3889739,\n",
       " u'behaviour molested': 828212,\n",
       " u'point rs': 5568093,\n",
       " u'reach likely': 5993706,\n",
       " u'plate really': 5534679,\n",
       " u'words happily': 8138865,\n",
       " u'defend ugly': 1969626,\n",
       " u'revenue individuals': 6264380,\n",
       " u'right relevant': 6295840,\n",
       " u'universal brown': 7716372,\n",
       " u'paula jones': 5379458,\n",
       " u'word including': 8134854,\n",
       " u'16415 exactly': 46626,\n",
       " u'pictures beard': 5491387,\n",
       " u'anderson money': 472680,\n",
       " u'evidential reincarnation': 2564630,\n",
       " u'snuggled': 6809051,\n",
       " u'secrecy deaths': 6516958,\n",
       " u'inventions negros': 3914095,\n",
       " u'bmi despite': 954933,\n",
       " u'acknowledged linguistic': 268284,\n",
       " u'gooey clots': 3210930,\n",
       " u'streep couldn': 7049084,\n",
       " u'teaches shit': 7282751,\n",
       " u'ties asshole': 7440979,\n",
       " u'companion abu': 1535701,\n",
       " u'dogs stung': 2232231,\n",
       " u'gallstones osteoarthritis': 3055717,\n",
       " u'depends genre': 2027221,\n",
       " u'shred difference': 6685463,\n",
       " u'old spouse': 5181314,\n",
       " u'yu just': 8274222,\n",
       " u'cause immune': 1228439,\n",
       " u'editor gives': 2379671,\n",
       " u'insult mythology': 3865331,\n",
       " u'2265873 17135492000005dc': 94089,\n",
       " u'just cares': 4060864,\n",
       " u'wave process': 7981565,\n",
       " u'kever': 4097207,\n",
       " u'wont try': 8131499,\n",
       " u'heartedly believes': 3469490,\n",
       " u'key aligning': 4097421,\n",
       " u'hoping desperate': 3586028,\n",
       " u'just cared': 4060857,\n",
       " u'living majority': 4422514,\n",
       " u'gjoni unrelated': 3158607,\n",
       " u'thread quell': 7421018,\n",
       " u'circle ironically': 1364102,\n",
       " u'impact beliefs': 3726048,\n",
       " u'wars islamic': 7955280,\n",
       " u'safe nonsensical': 6388354,\n",
       " u'means garnering': 4680117,\n",
       " u'harm topic': 3416089,\n",
       " u'overly proud': 5277891,\n",
       " u'suffocated brenda': 7128148,\n",
       " u'lies nation': 4325878,\n",
       " u'form lactose': 2945305,\n",
       " u'maybe advice': 4653464,\n",
       " u'collect wage': 1456001,\n",
       " u'judge quick': 4048481,\n",
       " u'limit obesity': 4374628,\n",
       " u'sobchack': 6809993,\n",
       " u'segregation exists': 6539584,\n",
       " u'legislators positions': 4282195,\n",
       " u'obviously youre': 5136878,\n",
       " u'remember mongol': 6157924,\n",
       " u'tirmidhi just': 7466785,\n",
       " u'allowed guard': 424645,\n",
       " u'pentagon roadblocks': 5406497,\n",
       " u'technically representing': 7290508,\n",
       " u'moral personally': 4870441,\n",
       " u'extent fault': 2655677,\n",
       " u'equitable accepting': 2510896,\n",
       " u'cultures bad': 1845000,\n",
       " u'outside galactic': 5267908,\n",
       " u'price train': 5733375,\n",
       " u'submission nimik': 7099883,\n",
       " u'judge_orders_rolling_release_of_clintons_state http': 4048878,\n",
       " u'milo damn': 4776676,\n",
       " u'wear times': 8006040,\n",
       " u'life principle': 4331051,\n",
       " u'costly terms': 1727852,\n",
       " u'wisconsin needs': 8096474,\n",
       " u'profess want': 5786611,\n",
       " u'dv survivors': 2329355,\n",
       " u'indictment marriage': 3791302,\n",
       " u'waiting traffic': 7913152,\n",
       " u'buy properly': 1115153,\n",
       " u'slowly space': 6783906,\n",
       " u'pussing': 5895740,\n",
       " u'require order': 6204881,\n",
       " u'favorable vs': 2770085,\n",
       " u'sight backwards': 6698190,\n",
       " u'ads ireland': 327169,\n",
       " u'octopus monster': 5144860,\n",
       " u'culture dwarf': 1842644,\n",
       " u'supply exit': 7153954,\n",
       " u'better turnouts': 877727,\n",
       " u'chan jpg': 1268314,\n",
       " u'cancers happening': 1160932,\n",
       " u'hideous conclusions': 3511997,\n",
       " u'set treatment': 6589719,\n",
       " u'stupid fashion': 7085629,\n",
       " u'harass cool': 3403521,\n",
       " u'tough battle': 7512462,\n",
       " u'pointed additional': 5569911,\n",
       " u'increasing physical': 3778549,\n",
       " u'procedure drive': 5772096,\n",
       " u'county dey': 1751476,\n",
       " u'allowing jesus': 426787,\n",
       " u'beautiful peace': 811692,\n",
       " u'saine essentially': 6401492,\n",
       " u'positions executions': 5629885,\n",
       " u'period sorry': 5435480,\n",
       " u'plenty airtime': 5548442,\n",
       " u'drake wiebe': 2283854,\n",
       " u'better buyer': 872268,\n",
       " u'security militarized': 6525540,\n",
       " u'remind happens': 6160638,\n",
       " u'supplicative': 7152805,\n",
       " u'alimony sex': 412800,\n",
       " u'method weight': 4749730,\n",
       " u'mad 11': 4534957,\n",
       " u'crazy accusation': 1784436,\n",
       " u'multinationals wouldn': 4911933,\n",
       " u'wars reaping': 7955648,\n",
       " u'block thrilled': 941926,\n",
       " u'receive proportional': 6051841,\n",
       " u'elongates heated': 2421651,\n",
       " u'evolves makes': 2569823,\n",
       " u'potatokin game': 5654377,\n",
       " u'discussion congress': 2165286,\n",
       " u'attractive undresses': 676557,\n",
       " u'clothes unemployed': 1432064,\n",
       " u'detonation killed': 2067730,\n",
       " u'efforts intensified': 2398102,\n",
       " u'imgurl http': 3716371,\n",
       " u'terrorism rise': 7329512,\n",
       " u'mujahid ibn': 4910404,\n",
       " u'case opposing': 1207336,\n",
       " u'gt clinical': 3296523,\n",
       " u'upvotes millions': 7752068,\n",
       " u'payment method': 5387189,\n",
       " u'admittedly statement': 323673,\n",
       " u'com abkfhd7': 1469577,\n",
       " u'dont surf': 2259270,\n",
       " u'thank indirectly': 7346530,\n",
       " u'athleticism players': 653268,\n",
       " u'country improvements': 1747265,\n",
       " u'mean memorize': 4671562,\n",
       " u'banned based': 764668,\n",
       " u'determined judging': 2065932,\n",
       " u'man tactics': 4587468,\n",
       " u'sanitation public': 6417562,\n",
       " u'male recent': 4577238,\n",
       " u'sadly hams': 6386440,\n",
       " u'litter harder': 4405488,\n",
       " u'iq america': 3928939,\n",
       " u'conservation rhetoric': 1621903,\n",
       " u'area knowledge': 552908,\n",
       " u'time commented': 7447347,\n",
       " u'florida passed': 2892170,\n",
       " u'barr birmingham': 774053,\n",
       " u'hub complaining': 3622494,\n",
       " u'shadow conflicts': 6607482,\n",
       " u'gg best': 3131524,\n",
       " u'certain prayers': 1255521,\n",
       " u'massive thesis': 4633994,\n",
       " u'2011_05_01_archive html': 79025,\n",
       " u'bee problem': 815768,\n",
       " u'oh augh': 5164396,\n",
       " u'care patton': 1186294,\n",
       " u'imaginable vile': 3709941,\n",
       " u'term 259': 7316363,\n",
       " u'stomach slight': 7019030,\n",
       " u'009 turkish': 3924,\n",
       " u'sources focal': 6867556,\n",
       " u'fo nother': 2898351,\n",
       " u'5958750 stunning': 164211,\n",
       " u'ensured america': 2483742,\n",
       " u'holding boy': 3553757,\n",
       " u'animal behaviors': 479520,\n",
       " u'shortlord': 6668336,\n",
       " u'demonstration letter': 2014051,\n",
       " u'mosque riyadh': 4880337,\n",
       " u'talked believing': 7246895,\n",
       " u'nuclear keeping': 5091904,\n",
       " u'tumblrinaction awesome': 7618649,\n",
       " u'communities municipalities': 1529625,\n",
       " u'japan fairly': 3994468,\n",
       " u'got renaissance': 3222861,\n",
       " u'tradition absurd': 7527582,\n",
       " u'circulated happening': 1365891,\n",
       " u'rank reddit': 5970650,\n",
       " u'actions mankind': 279286,\n",
       " u'default aren': 1965029,\n",
       " u'axe grind': 719068,\n",
       " u'exchange don': 2590203,\n",
       " u'life crises': 4327997,\n",
       " u'homophobic does': 3569068,\n",
       " u'html nuclear': 3615874,\n",
       " u'shirts proper': 6640247,\n",
       " u'jorge s\\xf6renson': 4037003,\n",
       " u'age check': 358347,\n",
       " u'shouldn upsetting': 6675310,\n",
       " u'subsequent movements': 7106175,\n",
       " u'patriarchy taken': 5374943,\n",
       " u'legendary journalist': 4279774,\n",
       " u'100 perceived': 17691,\n",
       " u'relatively yes': 6134235,\n",
       " u'heaven afterlife': 3471626,\n",
       " u'elses plus': 2421967,\n",
       " u'lady daughter': 4192110,\n",
       " u'unprofessional clothes': 7732579,\n",
       " u'shackle mail': 6606971,\n",
       " u'difference engage': 2113297,\n",
       " u'eggs cook': 2400033,\n",
       " u'office lng': 5156719,\n",
       " u'westeros insurance': 8043514,\n",
       " u'censorship kingdom': 1244756,\n",
       " u'campaigning walker': 1153139,\n",
       " u'jobs train': 4026222,\n",
       " u'ago generation': 371284,\n",
       " u'rodents perjoritive': 6323690,\n",
       " u'obviously price': 5135930,\n",
       " u'sorry mile': 6852185,\n",
       " u'texts pass': 7343927,\n",
       " u'bullshit distasteful': 1083749,\n",
       " u'eat prevent': 2357963,\n",
       " u'deporting migrants': 2030002,\n",
       " u'decreased taxes': 1957964,\n",
       " u'america benefits': 444907,\n",
       " u'reason insignificant': 6037224,\n",
       " u'supports writing': 7164820,\n",
       " u'media try': 4697417,\n",
       " u'hypergamy hypergamy': 3653876,\n",
       " u'feminism attack': 2805302,\n",
       " u'chemistry explain': 1310846,\n",
       " u'selling country': 6548411,\n",
       " u'swarm tactics': 7200759,\n",
       " u'feed healthier': 2784501,\n",
       " u'deny post': 2021466,\n",
       " u'thinks evidence': 7404931,\n",
       " u'piss going': 5506762,\n",
       " u'guaranteed funding': 3313078,\n",
       " u'splits people': 6915156,\n",
       " u'possibly robbing': 5640537,\n",
       " u'equally cut': 2506953,\n",
       " u'picture really': 5490455,\n",
       " u'nationalized banks': 4957343,\n",
       " u'psychiatric hospitals': 5857948,\n",
       " u'economy planet': 2370946,\n",
       " u'belly sign': 848112,\n",
       " u'decline understand': 1956232,\n",
       " u'stem early': 7001797,\n",
       " u'publication oh': 5865855,\n",
       " u'fat desire': 2747436,\n",
       " u'time stores': 7454695,\n",
       " u'part3 htm': 5338994,\n",
       " u'responding asking': 6230846,\n",
       " u'enter inland': 2485065,\n",
       " u'men bourgeois': 4717572,\n",
       " u'disgruntled edit': 2170680,\n",
       " u'que dipshit': 5913588,\n",
       " u'sounds realistic': 6862895,\n",
       " u'fallujah flush': 2716005,\n",
       " u'diet premiumteddy': 2110009,\n",
       " u'36cp0o': 132827,\n",
       " u'god gtx760': 3175844,\n",
       " u'helping transsexuals': 3494956,\n",
       " u'indoctrination train': 3797819,\n",
       " u'supposed stormfront': 7168340,\n",
       " u'tapas satya': 7260289,\n",
       " u'stuff proof': 7081894,\n",
       " u'logo ill': 4447176,\n",
       " u'tone hair': 7488125,\n",
       " u'sent bulletin': 6564650,\n",
       " u'schooling hadn': 6478670,\n",
       " u'study explains': 7077341,\n",
       " u'issues funding': 3978454,\n",
       " u'aggrandizing sanctimony': 366123,\n",
       " u'mediating heaven': 4698127,\n",
       " u'surveillance offered': 7190299,\n",
       " u'point rp': 5568091,\n",
       " u'kucinich dont': 4176762,\n",
       " u'supportive brotherhood': 7163514,\n",
       " u'join fb': 4029385,\n",
       " u'constructing measuring': 1646968,\n",
       " u'polonium soup': 5600575,\n",
       " u'don polls': 2251262,\n",
       " u'oversimpliying': 5281572,\n",
       " u'earshot wonders': 2341676,\n",
       " u'warped religious': 7952247,\n",
       " u'alternative send': 435379,\n",
       " u'instead author': 3854991,\n",
       " u'blockbot automated': 942383,\n",
       " u'monitored wikipedia': 4857122,\n",
       " u'person squats': 5448926,\n",
       " u'bozier jamaica': 1010663,\n",
       " u'boat fishing': 958658,\n",
       " u'aha know': 385485,\n",
       " u'point rw': 5568114,\n",
       " u'adults include': 329722,\n",
       " u'died 1943': 2106292,\n",
       " u'weep prevents': 8019814,\n",
       " u'australia day': 683073,\n",
       " u'beginners workout': 821809,\n",
       " u'sovereign unchanging': 6871144,\n",
       " u'outfit lots': 5260435,\n",
       " u'want failed': 7927811,\n",
       " u'iran perfect': 3931365,\n",
       " u'forest burned': 2935070,\n",
       " u'jameson collection': 3992575,\n",
       " u'interacting maybe': 3881641,\n",
       " u'moderation including': 4833410,\n",
       " u'offering sex': 5154995,\n",
       " u'mike confused': 4762916,\n",
       " u'driving sides': 2301942,\n",
       " u'feel patronized': 2789296,\n",
       " u'offering set': 5154994,\n",
       " u'clarification apologize': 1394227,\n",
       " u'translations mention': 7545809,\n",
       " u'waves say': 7982216,\n",
       " u'happened refused': 3393071,\n",
       " u'public frightened': 5863600,\n",
       " u'son union': 6843626,\n",
       " u'censorship say': 1245029,\n",
       " u'daughters away': 1903841,\n",
       " u'advice men': 337387,\n",
       " u'cuts cheeses': 1866871,\n",
       " u'center itic': 1246325,\n",
       " u'noted strictly': 5078619,\n",
       " u'generate electrical': 3100788,\n",
       " u'energize democratic': 2463711,\n",
       " u'fuzziness': 3047294,\n",
       " u'snuggles': 6809056,\n",
       " u'minutes clean': 4795137,\n",
       " u'destruction quran': 2060314,\n",
       " u'people unacceptable': 5420984,\n",
       " u'care substitute': 1187352,\n",
       " u'business insider': 1103957,\n",
       " u'far starting': 2735908,\n",
       " u'senator country': 6553708,\n",
       " u'removes clitorus': 6167911,\n",
       " u'heartbreak abortion': 3469198,\n",
       " u'laying doesn': 4237122,\n",
       " u'sabotage know': 6380215,\n",
       " u'bike gear': 897004,\n",
       " u'pill recalls': 5500048,\n",
       " u'381132': 137852,\n",
       " u'trouble sides': 7585771,\n",
       " u'childhood raised': 1321132,\n",
       " u'nanking_massacre aka': 4945242,\n",
       " u'embolden insane': 2426959,\n",
       " u'briefer example': 1036221,\n",
       " u'zssr occupiyng': 8286482,\n",
       " u'fun sanctimonious': 3028204,\n",
       " u'geography world': 3113467,\n",
       " u'adverse body': 334777,\n",
       " u'21 gallup': 90442,\n",
       " u'genuinely curious': 3112268,\n",
       " u'weekly best': 8017735,\n",
       " u'butter thank': 1110403,\n",
       " u'remote means': 6163647,\n",
       " u'rampant prisons': 5963503,\n",
       " u'doesn factors': 2225766,\n",
       " u'molestation happens': 4841487,\n",
       " u'muhfuckin pinky': 4910193,\n",
       " u'cap archive': 1166991,\n",
       " u'problem politicians': 5766249,\n",
       " u'attendance government': 668071,\n",
       " u'com pipelines': 1476261,\n",
       " u'purposes correction': 5888870,\n",
       " u'tearing monuments': 7287137,\n",
       " u'luxuries rest': 4526122,\n",
       " u'hasn happening': 3422657,\n",
       " u'met relationship': 4744348,\n",
       " u'writer ashamed': 8198579,\n",
       " u'image yooka': 3708288,\n",
       " u'slimming patch': 6778452,\n",
       " u'fighting welsh': 2830576,\n",
       " u'neighbourhood clear': 5008889,\n",
       " u'sides leadership': 6695751,\n",
       " u'oversimplification isis': 5281384,\n",
       " u'failures ambitions': 2701936,\n",
       " u'defending values': 1971459,\n",
       " u'expect grew': 2619186,\n",
       " u'vote plots': 7888900,\n",
       " u'smaller largest': 6790238,\n",
       " u'removed partner': 6167287,\n",
       " u'paper practice': 5323216,\n",
       " u'aren fools': 557844,\n",
       " u'colors logo': 1465842,\n",
       " u'run pretty': 6363707,\n",
       " u'giving month': 3157373,\n",
       " u'utopia offer': 7793164,\n",
       " u'belarus regards': 831213,\n",
       " u'harel number': 3414689,\n",
       " u'nac member': 4937863,\n",
       " u'comments threads': 1516402,\n",
       " u'baptists presbyterians': 768195,\n",
       " u'conservative equivalent': 1622911,\n",
       " u'communities don': 1529280,\n",
       " u'friends priority': 2993720,\n",
       " u'harmful drugs': 3416608,\n",
       " u'basket plan': 792090,\n",
       " u'gets hamster': 3122906,\n",
       " u'cheered entire': 1307202,\n",
       " u'podcast joined': 5560468,\n",
       " u'event simply': 2553532,\n",
       " u'meritocracy equal': 4736807,\n",
       " u'acceptable big': 240048,\n",
       " u'accounts bots': 257592,\n",
       " u'reap wrath': 6033988,\n",
       " u'1148 post1148': 27547,\n",
       " u'funny finally': 3039364,\n",
       " u'honest womyn': 3572891,\n",
       " u'past tolerate': 5366880,\n",
       " u'opponents male': 5215784,\n",
       " u'pro gop': 5753943,\n",
       " u'member allegedly': 4710646,\n",
       " u'999999999 crimes': 197389,\n",
       " u'controlled secret': 1681807,\n",
       " u'pro got': 5753944,\n",
       " u'pro gov': 5753945,\n",
       " u'stunned people': 7084062,\n",
       " u'poisoning sued': 5576352,\n",
       " u'left mass': 4271025,\n",
       " u'truly belief': 7595198,\n",
       " u'shame blouse': 6612200,\n",
       " u'rock leave': 6321220,\n",
       " u'money bi': 4849700,\n",
       " u'tourists really': 7514545,\n",
       " u'running deaths': 6366081,\n",
       " u'4q ron': 153587,\n",
       " u'procedures source': 5772952,\n",
       " u'pregnant shitlady': 5696451,\n",
       " u'driving cruiser': 2301324,\n",
       " u'fitbit week': 2868792,\n",
       " u'girls incompetent': 3147901,\n",
       " u'staying issue': 6995995,\n",
       " u'subsided chosen': 7106884,\n",
       " u'tbf mod': 7277890,\n",
       " u'reading encyclopedia': 6005837,\n",
       " u'security reynolds': 6525890,\n",
       " u'world losing': 8165804,\n",
       " u'walking way': 7919214,\n",
       " u'decisions legal': 1952909,\n",
       " u'tickle little': 7438725,\n",
       " u'seized yeah': 6540598,\n",
       " u'read enablers': 6000576,\n",
       " u'lanced heavy': 4196112,\n",
       " u'men lived': 4719807,\n",
       " u'researcher presented': 6213798,\n",
       " u'death carried': 1928748,\n",
       " u'arabia sempaaaiiiiiiii': 544138,\n",
       " u'men lives': 4719809,\n",
       " u'smeared mascara': 6794220,\n",
       " u'fldenied': 2882604,\n",
       " u'doubleplus ungood': 2266464,\n",
       " u'abuser zq': 233107,\n",
       " u'look unnecessary': 4467143,\n",
       " u'nonsense kid': 5062999,\n",
       " u'nonsense kia': 5062998,\n",
       " u'aggressive lead': 367442,\n",
       " u'add additional': 302508,\n",
       " u'989 991': 196151,\n",
       " u'deserves psychopathic': 2043998,\n",
       " u'closed poc': 1427615,\n",
       " u'stay begin': 6993430,\n",
       " u'famous letting': 2725640,\n",
       " u'proving believe': 5852781,\n",
       " u'wealth estimated': 7999496,\n",
       " u'years teachers': 8249956,\n",
       " u'stop unless': 7025972,\n",
       " u'woman introduced': 8111061,\n",
       " u'walmiki filed': 7922698,\n",
       " u'right highschool': 6293020,\n",
       " u'86 called': 186758,\n",
       " u'retarded doubt': 6254275,\n",
       " u'we3fmfttp9g': 7996317,\n",
       " u'way shirts': 7990945,\n",
       " u'formed nature': 2948415,\n",
       " u'saying transgender': 6453140,\n",
       " u'people girth': 5412729,\n",
       " u'borders close': 988978,\n",
       " u'things aspects': 7380022,\n",
       " u'moved california': 4892401,\n",
       " u'surface fat': 7180779,\n",
       " u'basically id': 787669,\n",
       " u'separate body': 6569266,\n",
       " u'human blastocyst': 3629885,\n",
       " u'article mg22429932': 592979,\n",
       " u'treated good': 7557504,\n",
       " u'basically im': 787694,\n",
       " u'populace brain': 5611641,\n",
       " u'act irish': 272588,\n",
       " u'current proposal': 1855292,\n",
       " u'tend surprising': 7312167,\n",
       " u'enjoy porn': 2477218,\n",
       " u'start bitch': 6959044,\n",
       " u'links russian': 4389401,\n",
       " u'bigger strange': 893093,\n",
       " u'corporate republican': 1710654,\n",
       " u'result wastage': 6248513,\n",
       " u'persian_jews islamic_republic_': 5442926,\n",
       " u'lessons hollywood': 4292683,\n",
       " u'thing sargon': 7377659,\n",
       " u'usually horrified': 7788422,\n",
       " u'partner welfare': 5349785,\n",
       " u'politically sisi': 5590835,\n",
       " u'outlets example': 5262136,\n",
       " u'organization set': 5243820,\n",
       " u'article phone': 593355,\n",
       " u'mode trigger': 4828921,\n",
       " u'com wisam': 1479383,\n",
       " u'redstate com': 6081235,\n",
       " u'particularely': 5344148,\n",
       " u'city seen': 1378677,\n",
       " u'just leakage': 4067192,\n",
       " u'brutal isis': 1061159,\n",
       " u'targets justified': 7263977,\n",
       " u'origins similar': 5251355,\n",
       " u'list_of_black_astronauts plenty': 4394418,\n",
       " u'meaning commenting': 4675085,\n",
       " u'cr87izn': 1775587,\n",
       " u'feminism eugenics': 2805729,\n",
       " u'supermarkets habit': 7149772,\n",
       " u'jet fighters': 4008594,\n",
       " u'waddling screaming': 7903978,\n",
       " u'end looked': 2452668,\n",
       " u'motive treated': 4887722,\n",
       " u'question witness': 5919503,\n",
       " u'village neighborhoods': 7861597,\n",
       " u'south north': 6869593,\n",
       " u'hard black': 3406604,\n",
       " u'surprised conservatives': 7185394,\n",
       " u'buy dmv': 1113872,\n",
       " u'begin inquistion': 820954,\n",
       " u'thought http': 7412650,\n",
       " u'specific experience': 6890418,\n",
       " u'stable social': 6937292,\n",
       " u'revolutionary communist': 6271547,\n",
       " u'start hafus': 6960342,\n",
       " u'glad imposing': 3159732,\n",
       " u'outnumber believe': 5263558,\n",
       " u'ultra politically': 7665766,\n",
       " u'leftist claims': 4273270,\n",
       " u'rare lost': 5979702,\n",
       " u'rare loss': 5979701,\n",
       " u'actually fresh': 294640,\n",
       " u'wrong happy': 8206084,\n",
       " u'deceit commonly': 1942664,\n",
       " u'argued contested': 564908,\n",
       " u'amp subatomic': 462898,\n",
       " u'confusing try': 1605931,\n",
       " u'boggs kyle': 967628,\n",
       " u'rare lose': 5979700,\n",
       " u'compared civilians': 1541443,\n",
       " u'rarely statistics': 5980940,\n",
       " u'combination depth': 1481861,\n",
       " u'zigged': 8281409,\n",
       " u'periods trying': 5436534,\n",
       " u'understanding function': 7689999,\n",
       " u'merger isn': 4736051,\n",
       " u'topic breasts': 7496510,\n",
       " u'crisis goes': 1813898,\n",
       " u'experience haes': 2629167,\n",
       " u'talked taking': 7247756,\n",
       " u'tubes people': 7615425,\n",
       " u'slug dads': 6784298,\n",
       " u'stormtroopers space': 7034840,\n",
       " u'big australian': 887430,\n",
       " u'clubs talk': 1435443,\n",
       " u'trashy follow': 7551211,\n",
       " u'puberty matter': 5862211,\n",
       " u'ranks officer': 5971423,\n",
       " u'democracies favor': 2004747,\n",
       " u'zhtzx': 8281250,\n",
       " u'27236 gif': 105323,\n",
       " u'donuts fried': 2259878,\n",
       " u'act benefit': 271349,\n",
       " u'9jk': 197972,\n",
       " u'exact define': 2572070,\n",
       " u'gym waste': 3344107,\n",
       " u'comments 34j5ph': 1510398,\n",
       " u'basically obviously': 788334,\n",
       " u'trash audience': 7550235,\n",
       " u'buy immediately': 1114412,\n",
       " u'rahimahullaah said': 5954781,\n",
       " u'professional armwrestlers': 5787010,\n",
       " u'intended increasing': 3876287,\n",
       " u'commie popularized': 1517745,\n",
       " u'eyesight understanding': 2670490,\n",
       " u'rugged territory': 6352130,\n",
       " u'people spun': 5419652,\n",
       " u'indefinitely need': 3782229,\n",
       " u'riaa making': 6276753,\n",
       " u'possible measure': 5637298,\n",
       " u'clergy held': 1413475,\n",
       " u'deck compare': 1953732,\n",
       " u'80s make': 184387,\n",
       " u'societies proving': 6817303,\n",
       " u'abuse stubborn': 232065,\n",
       " u'thing consolidate': 7372784,\n",
       " u'land significant': 4198276,\n",
       " u'exception responding': 2587735,\n",
       " u'apply republicans': 530785,\n",
       " u'wasn feeling': 7960014,\n",
       " u'pointless especially': 5572557,\n",
       " u'chomping pizza': 1340420,\n",
       " u'rents far': 6171762,\n",
       " u'carry unwanted': 1199130,\n",
       " u'bracelet join': 1011965,\n",
       " u'children owned': 1324171,\n",
       " u'daughter named': 1903387,\n",
       " u'nk imagining': 5052528,\n",
       " u'9j2': 197957,\n",
       " u'9j4': 197959,\n",
       " u'daughter names': 1903388,\n",
       " u'situation force': 6741427,\n",
       " u'allows run': 428297,\n",
       " u'cancer smoker': 1160568,\n",
       " u'cancer smokes': 1160570,\n",
       " u'cola http': 1451764,\n",
       " u'illegally slaughter': 3701496,\n",
       " u'seriousness lot': 6578144,\n",
       " u'stay classical': 6993566,\n",
       " u'cancer smoked': 1160567,\n",
       " u'close consensus': 1425011,\n",
       " u'weird knees': 8027542,\n",
       " u'talking mraps': 7251206,\n",
       " u'evil temptress': 2566837,\n",
       " u'omission best': 5187695,\n",
       " u'intel ceased': 3871663,\n",
       " u'blacks commissioner': 925882,\n",
       " u'ethnically wanted': 2539790,\n",
       " u'shucks just': 6687429,\n",
       " u'light compared': 4338455,\n",
       " u'creating mosaic': 1794319,\n",
       " u'avdzr ac92i': 697081,\n",
       " u'son heir': 6842881,\n",
       " u'opportunity attraction': 5216949,\n",
       " u'way fair': 7986229,\n",
       " u'make timeline': 4563294,\n",
       " u'reality chinese': 6017567,\n",
       " u'skill overseas': 6757003,\n",
       " u'http bitcoinobituaries': 3617127,\n",
       " u'urges people': 7754273,\n",
       " u'like 1491': 4341651,\n",
       " u'horn isn': 3588730,\n",
       " u'gasoline half': 3076369,\n",
       " u'illicit transactions': 3701956,\n",
       " u'mean voice': 4674351,\n",
       " u'isolation play': 3964946,\n",
       " u'president additional': 5708879,\n",
       " u'furthering instead': 3042616,\n",
       " u'boat yes': 959099,\n",
       " u'schools debatable': 6479221,\n",
       " u'love horrible': 4502951,\n",
       " u'culture mao': 1843514,\n",
       " u'tear little': 7286822,\n",
       " u'events example': 2554344,\n",
       " u'swimmer broad': 7207817,\n",
       " u'somthing commendable': 6842267,\n",
       " u'adbusters used': 302395,\n",
       " u'getting investments': 3127734,\n",
       " u'peremptory': 5428428,\n",
       " u'constantie did': 1641257,\n",
       " u'mentors': 4732181,\n",
       " u'issues adequately': 3977248,\n",
       " u'maintaining reasonable': 4548922,\n",
       " u'causes thing': 1233333,\n",
       " u'recognize contracts': 6061016,\n",
       " u'http psychologyofattractivenesspodcast': 3619922,\n",
       " u'deserves prosecuted': 2043995,\n",
       " u'fruitful increase': 2999629,\n",
       " u'light interpretation': 4339027,\n",
       " u'merely relative': 4735494,\n",
       " u'causes think': 1233335,\n",
       " u'20leaders': 88109,\n",
       " u'comedienne read': 1489751,\n",
       " u'legal ubiquitous': 4277488,\n",
       " u'really provide': 6030698,\n",
       " u'idiots apparently': 3684354,\n",
       " u'brokers just': 1052330,\n",
       " u'group comes': 3280271,\n",
       " u'surrey interested': 7188484,\n",
       " u'60 purchase': 167610,\n",
       " u'vote join': 7888292,\n",
       " u'functional bought': 3029772,\n",
       " u'inferior world': 3810212,\n",
       " u'created recognize': 1792257,\n",
       " u'php thread': 5476840,\n",
       " u'cra oh': 1775861,\n",
       " u'compensated government': 1547943,\n",
       " u'sh_b_1932030': 6606421,\n",
       " u'colorado advice': 1464978,\n",
       " u'piggy real': 5497055,\n",
       " u'box don': 1004525,\n",
       " u'widely scientifically': 8064943,\n",
       " u'believe intelligible': 839017,\n",
       " u'issues ovarian': 3979386,\n",
       " u'savings goal': 6432721,\n",
       " u'ancient diverse': 471912,\n",
       " u'35 su': 127294,\n",
       " u'keynesians': 4098815,\n",
       " u'shirt holy': 6639210,\n",
       " u'claim concrete': 1384661,\n",
       " u'al ounouf': 402039,\n",
       " u'bullshit come': 1083464,\n",
       " u'seemingly responsible': 6532706,\n",
       " u'high jacking': 3514804,\n",
       " u'137646 http': 36041,\n",
       " u'picture block': 5488981,\n",
       " u'selfish step': 6545714,\n",
       " u'day altho': 1906404,\n",
       " u'bathroom need': 794757,\n",
       " u'tall black': 7254634,\n",
       " u'mind francis': 4779333,\n",
       " u'cunty cunt': 1847621,\n",
       " u'ground stations': 3278296,\n",
       " u'public latch': 5864033,\n",
       " u'monsanto gmo': 4860139,\n",
       " u'forum gone': 2953585,\n",
       " u'frozen fish': 2998526,\n",
       " u'war meddling': 7944344,\n",
       " u'vagina untill': 7798896,\n",
       " u'presume 80': 5716809,\n",
       " u'stallings': 6944264,\n",
       " u'straightforward critically': 7041111,\n",
       " u'colonies compliance': 1462847,\n",
       " u'exorcise isis': 2615577,\n",
       " u'sleuthing': 6774673,\n",
       " u'sense framing': 6559897,\n",
       " u'matheson retiring': 4642972,\n",
       " u'tremblor like': 7563154,\n",
       " u'said protesters': 6398405,\n",
       " u'fought persians': 2957269,\n",
       " u'stretch line': 7054558,\n",
       " u'based protected': 781507,\n",
       " u'hoagies': 3548411,\n",
       " u'caffeine deaths': 1123873,\n",
       " u'yes violence': 8261089,\n",
       " u'idea somebody': 3669559,\n",
       " u'consideration brings': 1629611,\n",
       " u'assad kill': 622313,\n",
       " u'dropped unknown': 2305784,\n",
       " u'pilling imbecile': 5500970,\n",
       " u'having leads': 3440180,\n",
       " u'forming terror': 2948995,\n",
       " u'phenotypes results': 5467316,\n",
       " u'dubious best': 2314723,\n",
       " u'know wastes': 4157377,\n",
       " u'argument sarkeesian': 570197,\n",
       " u'completely shallow': 1560940,\n",
       " u'really agree': 6025500,\n",
       " u'gradfather': 3243152,\n",
       " u'vonnegut lover': 7886229,\n",
       " u'stars way': 6958569,\n",
       " u'really question': 6030784,\n",
       " u'jerseyan demand': 4005346,\n",
       " u'used tournaments': 7772329,\n",
       " u'tf 14': 7344354,\n",
       " u'wars vs': 7956002,\n",
       " u'second happy': 6513674,\n",
       " u'want forgo': 7928060,\n",
       " u'needed frequented': 4993885,\n",
       " u'want forge': 7928056,\n",
       " u'vyuvnrk3ltc': 7902084,\n",
       " u'wars ve': 7955984,\n",
       " u'agreed google': 379394,\n",
       " u'correctly home': 1717606,\n",
       " u'negotiated armistice': 5004649,\n",
       " u'begining second': 821708,\n",
       " u'argue event': 563245,\n",
       " u'peace slavery': 5393572,\n",
       " u'guys legitimately': 3339992,\n",
       " u'business increases': 1103926,\n",
       " u'maps reference': 4605258,\n",
       " u'location said': 4439918,\n",
       " u'pissed hat': 5507650,\n",
       " u'mr carter': 4902724,\n",
       " u'kurdistan riot': 4177968,\n",
       " u'pissed ham': 5507635,\n",
       " u'ban bad': 754099,\n",
       " u'lethal foetal': 4298534,\n",
       " u'current souped': 1855575,\n",
       " u'ban bai': 754103,\n",
       " u'blame assyria': 928254,\n",
       " u'yes altitude': 8255333,\n",
       " u'barraging random': 774209,\n",
       " u'ban ban': 754107,\n",
       " u'nudity implied': 5092789,\n",
       " u'forces abroad': 2928606,\n",
       " u'nigger taboo': 5042614,\n",
       " u'teach different': 7279970,\n",
       " u'officeholders': 5157637,\n",
       " u'neeos': 5000690,\n",
       " u'areas desirable': 554720,\n",
       " u'slightly losing': 6777262,\n",
       " u'nation freedoms': 4953060,\n",
       " u'pregnancy carriers': 5694707,\n",
       " u'defend barbarians': 1968319,\n",
       " u'shifted quieter': 6633756,\n",
       " u'plain disgust': 5522343,\n",
       " u'eye fellows': 2666729,\n",
       " u'cumbersome armoured': 1845987,\n",
       " u'europe able': 2544415,\n",
       " u'quarterly 1000': 5913014,\n",
       " u'join substantial': 4029999,\n",
       " u'explosives ll': 2647111,\n",
       " u'throttle england': 7430012,\n",
       " u'lately isis': 4216220,\n",
       " u'fucking littered': 3016354,\n",
       " u'forgiveness blackmailed': 2941142,\n",
       " u'techlicious com': 7289158,\n",
       " u'charged adult': 1289436,\n",
       " u'care protected': 1186578,\n",
       " u'80 percent': 183063,\n",
       " u'coast papua': 1441048,\n",
       " u'russian conquered': 6374104,\n",
       " u'need grief': 4988013,\n",
       " u'mean change': 4668690,\n",
       " u'home imprison': 3562390,\n",
       " u'knight faggots': 4143995,\n",
       " u'weapons destroyed': 8003398,\n",
       " u'indentify issue': 3782400,\n",
       " u'places electrical': 5519920,\n",
       " u'sunny big': 7144689,\n",
       " u'fucked wu': 3011190,\n",
       " u'stream leads': 7048408,\n",
       " u'station ignoring': 6986879,\n",
       " u'videos entire': 7850452,\n",
       " u'living nurturing': 4422743,\n",
       " u'excessive consider': 2589607,\n",
       " u'effexor orgasm': 2394310,\n",
       " u'reason vaccines': 6040021,\n",
       " u'applicable major': 526622,\n",
       " u'supporter actual': 7160687,\n",
       " u'wyden lionized': 8223475,\n",
       " u'second hr': 6513748,\n",
       " u'spectrum general': 6895492,\n",
       " u'viewfile 5761': 7856903,\n",
       " u'sanctions fight': 6412298,\n",
       " u'just isreal': 4066718,\n",
       " u'intuition reliable': 3908683,\n",
       " u'proper bakery': 5818200,\n",
       " u'circumstance whatsoever': 1367708,\n",
       " u'la work': 4180993,\n",
       " u'endorsement valve': 2459406,\n",
       " u'ironic title': 3938974,\n",
       " u'poles celebrate': 5578869,\n",
       " u'significant cost': 6702952,\n",
       " u'claim territory': 1387284,\n",
       " u'liabilities gg': 4310630,\n",
       " u'cons involved': 1615560,\n",
       " u'persons iii': 5455549,\n",
       " u'post dozen': 5642457,\n",
       " u'plays clearly': 5545084,\n",
       " u'historically know': 3536019,\n",
       " u'false partially': 2717152,\n",
       " u'hiding millions': 3512689,\n",
       " u'pusher random': 5893657,\n",
       " u'blackmailing african': 925350,\n",
       " u'strikes moochers': 7058141,\n",
       " u'media niche': 4696228,\n",
       " u'poland westwards': 5578048,\n",
       " u'fleet inlet': 2883621,\n",
       " u'promises replace': 5808772,\n",
       " u'lama shitlord': 4194991,\n",
       " u'suffering significant': 7126716,\n",
       " u'lqyn94bxuce': 4515549,\n",
       " u'question productive': 5918307,\n",
       " u'linked phone': 4387860,\n",
       " u'lives secure': 4420116,\n",
       " u'place bigot': 5513832,\n",
       " u'living racket': 4423020,\n",
       " u'hamas dudes': 3366181,\n",
       " u'nice outside': 5036657,\n",
       " u'532 527': 160345,\n",
       " u'bild winti': 898463,\n",
       " u'reasonable sjw': 6041502,\n",
       " u'flags miss': 2876376,\n",
       " u'didn axe': 2098718,\n",
       " u'family restrooms': 2723968,\n",
       " u'projections misleading': 5805093,\n",
       " u'upside dirt': 7750109,\n",
       " u'actually sank': 297829,\n",
       " u'meant slower': 4685745,\n",
       " u'translated sizes': 7544802,\n",
       " u'industry used': 3803082,\n",
       " u'establishing military': 2532624,\n",
       " u'things minute': 7383557,\n",
       " u'gamergate treat': 3063760,\n",
       " u'preventing generating': 5728781,\n",
       " u'deep coded': 1961939,\n",
       " u'opinion scholars': 5212273,\n",
       " u'body attractive': 962524,\n",
       " u'mean service': 4673184,\n",
       " u'spends takes': 6904422,\n",
       " u'killed zebra': 4119601,\n",
       " u'big distractions': 888350,\n",
       " u'just tutor': 4074293,\n",
       " u'indelible psychological': 3782335,\n",
       " u'periphery engaging': 5436662,\n",
       " u'glorified spoken': 3166065,\n",
       " u'left extent': 4270069,\n",
       " u'accountability various': 256192,\n",
       " u'family hmm': 2722837,\n",
       " u'graduate having': 3243880,\n",
       " u'current studies': 1855635,\n",
       " u'aid politicians': 389753,\n",
       " u'got libertarian': 3221351,\n",
       " u'sites little': 6737858,\n",
       " u'gt stick': 3308311,\n",
       " u'recruit run': 6071044,\n",
       " u'right coincidence': 6290799,\n",
       " u'shert finally': 6630307,\n",
       " u'just promoting': 4070290,\n",
       " u'principles deontological': 5742278,\n",
       " u'benny greaser': 858194,\n",
       " u'better millennial': 875200,\n",
       " u'activities day': 284167,\n",
       " u'permission expensive': 5438721,\n",
       " u'garbage claimed': 3072740,\n",
       " u'school pop': 6477126,\n",
       " u'static depending': 6985628,\n",
       " u'true interested': 7592029,\n",
       " u'whipped guys': 8053881,\n",
       " u'realizes long': 6024503,\n",
       " u'embody christianity': 2426907,\n",
       " u'condition needs': 1588381,\n",
       " u'genetic manipulation': 3106161,\n",
       " u'propaganda outfits': 5816671,\n",
       " u'defence consultants': 1967866,\n",
       " u'superiority deny': 7148826,\n",
       " u'brainiac easy': 1015250,\n",
       " u'result institutional': 6247208,\n",
       " u'happened laziness': 3392300,\n",
       " u'bravery couple': 1020429,\n",
       " u'lot disgusting': 4491020,\n",
       " u'mache': 4532014,\n",
       " u'macha': 4531998,\n",
       " u'visits probably': 7876615,\n",
       " ...}"
      ]
     },
     "execution_count": 17,
     "metadata": {},
     "output_type": "execute_result"
    }
   ],
   "source": [
    "countv2.vocabulary_"
   ]
  },
  {
   "cell_type": "markdown",
   "metadata": {},
   "source": [
    "### Hashing Vectorizer"
   ]
  },
  {
   "cell_type": "code",
   "execution_count": 11,
   "metadata": {
    "collapsed": true
   },
   "outputs": [],
   "source": [
    "hashvect = HashingVectorizer(stop_words='english', decode_error = 'ignore', non_negative=True)\n",
    "# train vector\n",
    "hashvectfit = hashvect.fit_transform(X_train)\n",
    "# test vector\n",
    "hashvectfit_test = hashvect.transform(X_test)"
   ]
  },
  {
   "cell_type": "code",
   "execution_count": 12,
   "metadata": {
    "collapsed": false
   },
   "outputs": [
    {
     "data": {
      "text/plain": [
       "848185        NotHate\n",
       "917229        NotHate\n",
       "406707       SizeHate\n",
       "667836        NotHate\n",
       "979603        NotHate\n",
       "528009       SizeHate\n",
       "1315021       NotHate\n",
       "870102        NotHate\n",
       "1169077       NotHate\n",
       "702346        NotHate\n",
       "1389627       NotHate\n",
       "873782        NotHate\n",
       "587043        NotHate\n",
       "271605       SizeHate\n",
       "1373693       NotHate\n",
       "612479        NotHate\n",
       "1453210       NotHate\n",
       "359292       SizeHate\n",
       "1524312       NotHate\n",
       "944535        NotHate\n",
       "826690        NotHate\n",
       "399093       SizeHate\n",
       "1560370       NotHate\n",
       "1478906       NotHate\n",
       "1295130       NotHate\n",
       "666487        NotHate\n",
       "1395165       NotHate\n",
       "519938       SizeHate\n",
       "821413        NotHate\n",
       "53162        RaceHate\n",
       "              ...    \n",
       "1470485       NotHate\n",
       "1396025       NotHate\n",
       "184779     GenderHate\n",
       "1262752       NotHate\n",
       "1284372       NotHate\n",
       "103355     GenderHate\n",
       "791743        NotHate\n",
       "1247617       NotHate\n",
       "327069       SizeHate\n",
       "1370455       NotHate\n",
       "787201        NotHate\n",
       "1113396       NotHate\n",
       "329365       SizeHate\n",
       "41090        RaceHate\n",
       "278167       SizeHate\n",
       "1239911       NotHate\n",
       "175203     GenderHate\n",
       "912756        NotHate\n",
       "1136074       NotHate\n",
       "1570006       NotHate\n",
       "999890        NotHate\n",
       "137337     GenderHate\n",
       "1103462       NotHate\n",
       "732180        NotHate\n",
       "110268     GenderHate\n",
       "259178       SizeHate\n",
       "1414414       NotHate\n",
       "131932     GenderHate\n",
       "671155        NotHate\n",
       "121958     GenderHate\n",
       "Name: label, dtype: object"
      ]
     },
     "execution_count": 12,
     "metadata": {},
     "output_type": "execute_result"
    }
   ],
   "source": [
    "y_train"
   ]
  },
  {
   "cell_type": "markdown",
   "metadata": {},
   "source": [
    "## Predict \n",
    "### MultinomialNB"
   ]
  },
  {
   "cell_type": "markdown",
   "metadata": {},
   "source": [
    "### Using hashing vect"
   ]
  },
  {
   "cell_type": "code",
   "execution_count": 9,
   "metadata": {
    "collapsed": true
   },
   "outputs": [],
   "source": [
    "MNBvect = MultinomialNB()"
   ]
  },
  {
   "cell_type": "code",
   "execution_count": 14,
   "metadata": {
    "collapsed": false,
    "scrolled": true
   },
   "outputs": [],
   "source": [
    "model_hash = MNBvect.fit(hashvectfit, y_train)"
   ]
  },
  {
   "cell_type": "code",
   "execution_count": 15,
   "metadata": {
    "collapsed": false
   },
   "outputs": [],
   "source": [
    "hashpreds = model_hash.predict(hashvectfit_test)\n",
    "hashpreds_prob = model_hash.predict_proba(hashvectfit_test)"
   ]
  },
  {
   "cell_type": "code",
   "execution_count": 16,
   "metadata": {
    "collapsed": false
   },
   "outputs": [
    {
     "data": {
      "text/plain": [
       "0.67721460164840963"
      ]
     },
     "execution_count": 16,
     "metadata": {},
     "output_type": "execute_result"
    }
   ],
   "source": [
    "model_hash.score(hashvectfit_test, y_test)"
   ]
  },
  {
   "cell_type": "code",
   "execution_count": 17,
   "metadata": {
    "collapsed": false
   },
   "outputs": [
    {
     "data": {
      "text/plain": [
       "array(['GenderHate', 'NotHate', 'RaceHate', 'ReligionHate', 'SizeHate'], \n",
       "      dtype='|S12')"
      ]
     },
     "execution_count": 17,
     "metadata": {},
     "output_type": "execute_result"
    }
   ],
   "source": [
    "# get the name of the classes used\n",
    "model_hash.classes_"
   ]
  },
  {
   "cell_type": "code",
   "execution_count": 18,
   "metadata": {
    "collapsed": false
   },
   "outputs": [
    {
     "data": {
      "text/plain": [
       "array(['NotHate', 'NotHate', 'NotHate', 'NotHate', 'NotHate', 'NotHate',\n",
       "       'SizeHate', 'NotHate', 'NotHate', 'NotHate'], \n",
       "      dtype='|S12')"
      ]
     },
     "execution_count": 18,
     "metadata": {},
     "output_type": "execute_result"
    }
   ],
   "source": [
    "hashpreds[0:10]"
   ]
  },
  {
   "cell_type": "code",
   "execution_count": 19,
   "metadata": {
    "collapsed": false
   },
   "outputs": [
    {
     "data": {
      "text/plain": [
       "array([[  2.99288617e-03,   8.73152541e-01,   1.13488876e-04,\n",
       "          2.97276559e-07,   1.23740787e-01],\n",
       "       [  7.70988275e-03,   9.81835115e-01,   2.71478245e-04,\n",
       "          4.51266264e-07,   1.01830730e-02],\n",
       "       [  5.61382022e-02,   8.73970366e-01,   5.10866115e-03,\n",
       "          1.12612142e-05,   6.47715094e-02],\n",
       "       [  1.14680387e-01,   8.35478158e-01,   1.57775820e-03,\n",
       "          8.09835261e-06,   4.82555987e-02],\n",
       "       [  2.02965241e-04,   9.99673574e-01,   3.19018698e-07,\n",
       "          1.95802033e-13,   1.23141612e-04],\n",
       "       [  3.86844256e-08,   9.99999960e-01,   4.51064086e-12,\n",
       "          9.77546172e-19,   8.87175252e-10],\n",
       "       [  1.24465809e-02,   4.87122405e-01,   1.15918392e-03,\n",
       "          6.44777754e-06,   4.99265383e-01],\n",
       "       [  9.48970008e-02,   8.84338802e-01,   4.59753974e-03,\n",
       "          1.86240059e-04,   1.59804174e-02],\n",
       "       [  1.87629380e-01,   6.22900454e-01,   3.83027501e-03,\n",
       "          3.59847949e-05,   1.85603906e-01],\n",
       "       [  2.23498749e-02,   9.40629385e-01,   7.34403828e-04,\n",
       "          6.39984614e-07,   3.62856965e-02]])"
      ]
     },
     "execution_count": 19,
     "metadata": {},
     "output_type": "execute_result"
    }
   ],
   "source": [
    "hashpreds_prob[0:10]"
   ]
  },
  {
   "cell_type": "markdown",
   "metadata": {},
   "source": [
    "### Using count vectorizer"
   ]
  },
  {
   "cell_type": "code",
   "execution_count": 10,
   "metadata": {
    "collapsed": false
   },
   "outputs": [],
   "source": [
    "model_cv = MNBvect.fit(countv_fit, y_train)"
   ]
  },
  {
   "cell_type": "code",
   "execution_count": 11,
   "metadata": {
    "collapsed": true
   },
   "outputs": [],
   "source": [
    "cvpreds = model_cv.predict(countv_fit_test)\n",
    "cvpreds_prob = model_cv.predict_proba(countv_fit_test)"
   ]
  },
  {
   "cell_type": "code",
   "execution_count": 12,
   "metadata": {
    "collapsed": false
   },
   "outputs": [
    {
     "data": {
      "text/plain": [
       "0.75784811142607289"
      ]
     },
     "execution_count": 12,
     "metadata": {},
     "output_type": "execute_result"
    }
   ],
   "source": [
    "model_cv.score(countv_fit_test, y_test)"
   ]
  },
  {
   "cell_type": "code",
   "execution_count": 14,
   "metadata": {
    "collapsed": false
   },
   "outputs": [
    {
     "name": "stdout",
     "output_type": "stream",
     "text": [
      "             precision    recall  f1-score   support\n",
      "\n",
      " GenderHate       0.62      0.53      0.57     56937\n",
      "    NotHate       0.82      0.85      0.84    304440\n",
      "   RaceHate       0.70      0.33      0.45     15963\n",
      "ReligionHate       0.06      0.00      0.01      1717\n",
      "   SizeHate       0.63      0.68      0.65     94369\n",
      "\n",
      "avg / total       0.75      0.76      0.75    473426\n",
      "\n"
     ]
    }
   ],
   "source": [
    "print(classification_report(y_test, cvpreds))"
   ]
  },
  {
   "cell_type": "code",
   "execution_count": 16,
   "metadata": {
    "collapsed": false
   },
   "outputs": [
    {
     "data": {
      "text/plain": [
       "0.75456776771871426"
      ]
     },
     "execution_count": 16,
     "metadata": {},
     "output_type": "execute_result"
    }
   ],
   "source": [
    "model_cv2 = MNBvect.fit(countv2_fit, y_train)\n",
    "model_cv2.score(countv2_fit_test, y_test)"
   ]
  },
  {
   "cell_type": "code",
   "execution_count": null,
   "metadata": {
    "collapsed": true
   },
   "outputs": [],
   "source": []
  },
  {
   "cell_type": "code",
   "execution_count": null,
   "metadata": {
    "collapsed": true
   },
   "outputs": [],
   "source": []
  },
  {
   "cell_type": "code",
   "execution_count": null,
   "metadata": {
    "collapsed": true
   },
   "outputs": [],
   "source": []
  },
  {
   "cell_type": "code",
   "execution_count": null,
   "metadata": {
    "collapsed": true
   },
   "outputs": [],
   "source": []
  },
  {
   "cell_type": "code",
   "execution_count": null,
   "metadata": {
    "collapsed": true
   },
   "outputs": [],
   "source": []
  },
  {
   "cell_type": "code",
   "execution_count": null,
   "metadata": {
    "collapsed": true
   },
   "outputs": [],
   "source": []
  },
  {
   "cell_type": "code",
   "execution_count": null,
   "metadata": {
    "collapsed": true
   },
   "outputs": [],
   "source": []
  },
  {
   "cell_type": "markdown",
   "metadata": {},
   "source": [
    "### Using tf-idf (though MultinomialNB may not work as well with fractional counts)"
   ]
  },
  {
   "cell_type": "code",
   "execution_count": 23,
   "metadata": {
    "collapsed": true
   },
   "outputs": [],
   "source": [
    "model_tfidf = MNBvect.fit(tfidf_fit, y_train)"
   ]
  },
  {
   "cell_type": "code",
   "execution_count": 24,
   "metadata": {
    "collapsed": true
   },
   "outputs": [],
   "source": [
    "tfidfpred = model_tfidf.predict(tfidf_fit_test)\n",
    "tfidfpred_prob = model_tfidf.predict_proba(tfidf_fit_test)"
   ]
  },
  {
   "cell_type": "code",
   "execution_count": 25,
   "metadata": {
    "collapsed": false
   },
   "outputs": [
    {
     "data": {
      "text/plain": [
       "0.73415275037703887"
      ]
     },
     "execution_count": 25,
     "metadata": {},
     "output_type": "execute_result"
    }
   ],
   "source": [
    "model_tfidf.score(tfidf_fit_test, y_test)"
   ]
  },
  {
   "cell_type": "code",
   "execution_count": null,
   "metadata": {
    "collapsed": true
   },
   "outputs": [],
   "source": [
    "tfidf_fit.shape"
   ]
  },
  {
   "cell_type": "code",
   "execution_count": null,
   "metadata": {
    "collapsed": true
   },
   "outputs": [],
   "source": []
  },
  {
   "cell_type": "code",
   "execution_count": null,
   "metadata": {
    "collapsed": true
   },
   "outputs": [],
   "source": []
  },
  {
   "cell_type": "code",
   "execution_count": null,
   "metadata": {
    "collapsed": true
   },
   "outputs": [],
   "source": []
  },
  {
   "cell_type": "code",
   "execution_count": null,
   "metadata": {
    "collapsed": true
   },
   "outputs": [],
   "source": []
  },
  {
   "cell_type": "code",
   "execution_count": null,
   "metadata": {
    "collapsed": true
   },
   "outputs": [],
   "source": []
  },
  {
   "cell_type": "code",
   "execution_count": null,
   "metadata": {
    "collapsed": true
   },
   "outputs": [],
   "source": []
  },
  {
   "cell_type": "code",
   "execution_count": null,
   "metadata": {
    "collapsed": true
   },
   "outputs": [],
   "source": []
  },
  {
   "cell_type": "code",
   "execution_count": null,
   "metadata": {
    "collapsed": true
   },
   "outputs": [],
   "source": []
  },
  {
   "cell_type": "code",
   "execution_count": null,
   "metadata": {
    "collapsed": true
   },
   "outputs": [],
   "source": []
  },
  {
   "cell_type": "markdown",
   "metadata": {},
   "source": [
    "## Try count vectorizer with random forest classifier"
   ]
  },
  {
   "cell_type": "code",
   "execution_count": 26,
   "metadata": {
    "collapsed": true
   },
   "outputs": [],
   "source": [
    "rfc = RandomForestClassifier(n_jobs=-1)"
   ]
  },
  {
   "cell_type": "code",
   "execution_count": null,
   "metadata": {
    "collapsed": true
   },
   "outputs": [],
   "source": [
    "modelcv_rfc = rfc.fit_transform(countv_fit, y_train)"
   ]
  },
  {
   "cell_type": "code",
   "execution_count": null,
   "metadata": {
    "collapsed": true
   },
   "outputs": [],
   "source": [
    "modelcv_rfc.score(countv_fit_test, y_test)"
   ]
  },
  {
   "cell_type": "code",
   "execution_count": null,
   "metadata": {
    "collapsed": true
   },
   "outputs": [],
   "source": [
    "modelcv_rfc.feature_importances_"
   ]
  },
  {
   "cell_type": "code",
   "execution_count": null,
   "metadata": {
    "collapsed": true
   },
   "outputs": [],
   "source": []
  },
  {
   "cell_type": "code",
   "execution_count": null,
   "metadata": {
    "collapsed": true
   },
   "outputs": [],
   "source": []
  },
  {
   "cell_type": "code",
   "execution_count": null,
   "metadata": {
    "collapsed": true
   },
   "outputs": [],
   "source": []
  },
  {
   "cell_type": "code",
   "execution_count": null,
   "metadata": {
    "collapsed": true
   },
   "outputs": [],
   "source": [
    "### To create ROC curve:\n",
    "# Need to use one columns of prediction probabilities with one row of 1s & 0s --> build up ROC curve for each class.\n",
    "# Ming thinks it's fine to rely on the accuracy score in this case, since it's multiclass."
   ]
  },
  {
   "cell_type": "code",
   "execution_count": null,
   "metadata": {
    "collapsed": true
   },
   "outputs": [],
   "source": [
    "fpr, tpr, thresholds = roc_curve(y, scores, pos_label=2)\n",
    "roc_auc_score(y_true, y_scores)  #roc_auc_score(y_test, hashpreds, average = None)"
   ]
  }
 ],
 "metadata": {
  "kernelspec": {
   "display_name": "Python 2",
   "language": "python",
   "name": "python2"
  },
  "language_info": {
   "codemirror_mode": {
    "name": "ipython",
    "version": 2
   },
   "file_extension": ".py",
   "mimetype": "text/x-python",
   "name": "python",
   "nbconvert_exporter": "python",
   "pygments_lexer": "ipython2",
   "version": "2.7.11"
  }
 },
 "nbformat": 4,
 "nbformat_minor": 0
}
