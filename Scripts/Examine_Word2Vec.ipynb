{
 "cells": [
  {
   "cell_type": "code",
   "execution_count": 1,
   "metadata": {
    "collapsed": true
   },
   "outputs": [],
   "source": [
    "import gensim"
   ]
  },
  {
   "cell_type": "code",
   "execution_count": 6,
   "metadata": {
    "collapsed": false
   },
   "outputs": [
    {
     "data": {
      "text/plain": [
       "u'/Users/emily/Documents/Galvanize/Project/OnlineHateSpeech/Scripts'"
      ]
     },
     "execution_count": 6,
     "metadata": {},
     "output_type": "execute_result"
    }
   ],
   "source": [
    "pwd"
   ]
  },
  {
   "cell_type": "code",
   "execution_count": 2,
   "metadata": {
    "collapsed": false
   },
   "outputs": [],
   "source": [
    "HateModel = gensim.models.Word2Vec.load('../Data/word2vecmodels/HateModel.model')\n",
    "NotHateModel = gensim.models.Word2Vec.load('../Data/word2vecmodels/NotHateModel.model')"
   ]
  },
  {
   "cell_type": "code",
   "execution_count": 9,
   "metadata": {
    "collapsed": true
   },
   "outputs": [],
   "source": [
    "word = \"shitlords\""
   ]
  },
  {
   "cell_type": "code",
   "execution_count": 10,
   "metadata": {
    "collapsed": false
   },
   "outputs": [
    {
     "data": {
      "text/plain": [
       "[(u'fatties', 0.5774946212768555),\n",
       " (u'antisemites', 0.520426869392395),\n",
       " (u'eaters', 0.518539547920227),\n",
       " (u'undeserving', 0.5076836347579956),\n",
       " (u'mras', 0.4904177486896515),\n",
       " (u'cunts', 0.4863240122795105),\n",
       " (u'loonies', 0.48198235034942627),\n",
       " (u'zombies', 0.4802256226539612),\n",
       " (u'diabetics', 0.4796229302883148),\n",
       " (u'bastards', 0.4766627252101898)]"
      ]
     },
     "execution_count": 10,
     "metadata": {},
     "output_type": "execute_result"
    }
   ],
   "source": [
    "NotHateModel.most_similar(word)"
   ]
  },
  {
   "cell_type": "code",
   "execution_count": 11,
   "metadata": {
    "collapsed": false
   },
   "outputs": [
    {
     "data": {
      "text/plain": [
       "[(u'shitladies', 0.7101489901542664),\n",
       " (u'shitlordsladies', 0.5654811263084412),\n",
       " (u'ladies', 0.5471203327178955),\n",
       " (u'shitlord', 0.5276544094085693),\n",
       " (u'shitperson', 0.48263150453567505),\n",
       " (u'us', 0.47030508518218994),\n",
       " (u'hammies', 0.46799376606941223),\n",
       " (u'fellow', 0.463798463344574),\n",
       " (u'hambeasts', 0.44807541370391846),\n",
       " (u'we', 0.44714662432670593)]"
      ]
     },
     "execution_count": 11,
     "metadata": {},
     "output_type": "execute_result"
    }
   ],
   "source": [
    "HateModel.most_similar(word)"
   ]
  },
  {
   "cell_type": "code",
   "execution_count": 8,
   "metadata": {
    "collapsed": true
   },
   "outputs": [],
   "source": [
    "# List of words to examine:\n",
    "wordlist = ['nazi', 'fag', 'nigger', 'fat', 'black', 'hispanic', 'woman', 'man']"
   ]
  },
  {
   "cell_type": "code",
   "execution_count": 15,
   "metadata": {
    "collapsed": false
   },
   "outputs": [
    {
     "name": "stdout",
     "output_type": "stream",
     "text": [
      "For word \"nazi\", Not Hate: \n",
      "[(u'hitlers', 0.5424011945724487), (u'communist', 0.5358611941337585), (u'stalins', 0.48943138122558594), (u'neo', 0.47831952571868896), (u'nazis', 0.4777984619140625), (u'fascist', 0.47400999069213867), (u'stalin', 0.46709108352661133), (u'hitler', 0.46392881870269775), (u'poland', 0.4594622850418091), (u'germany', 0.4581623673439026)]\n",
      "For word \"nazi\", Hate: \n",
      "[(u'neonazi', 0.5681527853012085), (u'jew', 0.5238322019577026), (u'communist', 0.5095376968383789), (u'nazis', 0.4783787727355957), (u'fag', 0.4771222770214081), (u'neocon', 0.46972015500068665), (u'kurwa', 0.4681212902069092), (u'republican', 0.46635982394218445), (u'nutjob', 0.4662744998931885), (u'neo', 0.4655696451663971)]\n",
      "---\n",
      "For word \"fag\", Not Hate: \n",
      "[(u'creeper', 0.5912755727767944), (u'hippie', 0.5816802382469177), (u'hater', 0.5763604044914246), (u'narcissist', 0.563901424407959), (u'faggot', 0.5593529939651489), (u'cunt', 0.5518485307693481), (u'reveled', 0.5498921871185303), (u'pacifist', 0.5419291257858276), (u'coward', 0.5411378145217896), (u'lemming', 0.5403558611869812)]\n",
      "For word \"fag\", Hate: \n",
      "[(u'faggot', 0.6183040142059326), (u'closeted', 0.6112416386604309), (u'crackhead', 0.6051609516143799), (u'nigger', 0.5959248542785645), (u'chode', 0.5877851247787476), (u'transfag', 0.5872079133987427), (u'pedo', 0.5857983827590942), (u'feeder', 0.5780459642410278), (u'spic', 0.575863242149353), (u'sympathizer', 0.5749516487121582)]\n",
      "---\n",
      "For word \"nigger\", Not Hate: \n",
      "[(u'\\u201cnigger', 0.7407022714614868), (u'faggot', 0.4297524094581604), (u'sissy', 0.41727185249328613), (u'gtstop', 0.41263294219970703), (u'fag', 0.404883474111557), (u'thug', 0.3828808665275574), (u'madman', 0.38167887926101685), (u'bigot', 0.376575231552124), (u'manchild', 0.37313276529312134), (u'xenophobe', 0.3655749261379242)]\n",
      "For word \"nigger\", Hate: \n",
      "[(u'faggot', 0.65817791223526), (u'spic', 0.6528886556625366), (u'hyena', 0.6285830140113831), (u'redneck', 0.6059494018554688), (u'nigstoryovermath', 0.6058838963508606), (u'fag', 0.5959248542785645), (u'neighbour', 0.5830399394035339), (u'gook', 0.5668162107467651), (u'gtlive', 0.5602583289146423), (u'chink', 0.5538532733917236)]\n",
      "---\n",
      "For word \"fat\", Not Hate: \n",
      "[(u'skinny', 0.6677194833755493), (u'overweight', 0.6463743448257446), (u'obese', 0.6145905256271362), (u'underweight', 0.5857715606689453), (u'and', 0.5826846361160278), (u'muscular', 0.5729267597198486), (u'that', 0.5664653778076172), (u'body', 0.5495272874832153), (u'is', 0.5408554673194885), (u'anorexic', 0.5355662107467651)]\n",
      "For word \"fat\", Hate: \n",
      "[(u'skinny', 0.5746890902519226), (u'ugly', 0.5475109815597534), (u'lazy', 0.5222942233085632), (u'lard', 0.5075790882110596), (u'fatshit', 0.48779553174972534), (u'fatass', 0.4642479717731476), (u'slenderman', 0.46417170763015747), (u'gtbanned', 0.44928520917892456), (u'stupid', 0.44358378648757935), (u'hamplanet', 0.4275349974632263)]\n",
      "---\n",
      "For word \"black\", Not Hate: \n",
      "[(u'white', 0.7523291110992432), (u'brown', 0.6522219181060791), (u'hooded', 0.5387274026870728), (u'skinned', 0.5285886526107788), (u'haired', 0.5136715173721313), (u'nonblack', 0.505166232585907), (u'yellow', 0.48844027519226074), (u'tanned', 0.48283132910728455), (u'colored', 0.48148196935653687), (u'cis', 0.4787323474884033)]\n",
      "For word \"black\", Hate: \n",
      "[(u'white', 0.610222339630127), (u'colored', 0.45972150564193726), (u'iced', 0.4529600143432617), (u'brown', 0.4461881220340729), (u'nonfat', 0.4416327178478241), (u'coffee', 0.43914902210235596), (u'pink', 0.43784111738204956), (u'blonde', 0.437211275100708), (u'green', 0.4321797490119934), (u'bearded', 0.42431676387786865)]\n",
      "---\n",
      "For word \"hispanic\", Not Hate: \n",
      "[(u'latino', 0.6966855525970459), (u'455', 0.6041788458824158), (u'caucasians', 0.5834381580352783), (u'caucasian', 0.5709867477416992), (u'nonwhite', 0.5706225633621216), (u'zimbabweans', 0.5667225122451782), (u'cisgendered', 0.5501130819320679), (u'panthers', 0.5490444898605347), (u'388', 0.5452301502227783), (u'gtblack', 0.544799268245697)]\n",
      "For word \"hispanic\", Hate: \n",
      "[(u'latino', 0.7232872247695923), (u'caucasian', 0.6686215400695801), (u'hetero', 0.629145622253418), (u'african', 0.6011930704116821), (u'latina', 0.6006181240081787), (u'\\u201cother\\u201d', 0.6005924940109253), (u'orgwikiminnesotatransracialadoptionstudy', 0.5999380946159363), (u'asian', 0.5979622602462769), (u'cisgendered', 0.5924015045166016), (u'nationalist', 0.5875934362411499)]\n",
      "---\n",
      "For word \"woman\", Not Hate: \n",
      "[(u'girl', 0.7182832956314087), (u'man', 0.6922636032104492), (u'person', 0.6719682216644287), (u'guy', 0.6604640483856201), (u'women', 0.5764897465705872), (u'teenager', 0.5672267079353333), (u'kid', 0.559073805809021), (u'lady', 0.5330321788787842), (u'men', 0.528892993927002), (u'parent', 0.5275589227676392)]\n",
      "For word \"woman\", Hate: \n",
      "[(u'girl', 0.7373833656311035), (u'person', 0.6837750673294067), (u'guy', 0.6686242818832397), (u'chick', 0.6545928120613098), (u'lady', 0.6223991513252258), (u'dude', 0.6188836097717285), (u'man', 0.5736944675445557), (u'women', 0.5717588663101196), (u'hambeast', 0.5266516208648682), (u'nurse', 0.510442852973938)]\n",
      "---\n",
      "For word \"man\", Not Hate: \n",
      "[(u'woman', 0.6922636032104492), (u'person', 0.6217327117919922), (u'guy', 0.6129144430160522), (u'girl', 0.5403238534927368), (u'dude', 0.5382269620895386), (u'men', 0.5122579336166382), (u'boy', 0.4939037263393402), (u'son', 0.48657965660095215), (u'jew', 0.46889036893844604), (u'wife', 0.45550698041915894)]\n",
      "For word \"man\", Hate: \n",
      "[(u'dude', 0.6615312099456787), (u'boy', 0.5904640555381775), (u'woman', 0.5736944675445557), (u'guy', 0.5611002445220947), (u'lady', 0.5521381497383118), (u'shitlady', 0.4830820858478546), (u'girl', 0.4795006811618805), (u'fatso', 0.47329390048980713), (u'hahaha', 0.46613746881484985), (u'noooo', 0.45666950941085815)]\n",
      "---\n"
     ]
    }
   ],
   "source": [
    "for word in wordlist:\n",
    "    print('For word \"{0}\", Not Hate: '.format(word))\n",
    "    print( NotHateModel.most_similar(word) )\n",
    "    print('For word \"{0}\", Hate: '.format(word))\n",
    "    print(HateModel.most_similar(word))\n",
    "    print('---')"
   ]
  },
  {
   "cell_type": "code",
   "execution_count": null,
   "metadata": {
    "collapsed": true
   },
   "outputs": [],
   "source": []
  }
 ],
 "metadata": {
  "kernelspec": {
   "display_name": "Python 2",
   "language": "python",
   "name": "python2"
  },
  "language_info": {
   "codemirror_mode": {
    "name": "ipython",
    "version": 2
   },
   "file_extension": ".py",
   "mimetype": "text/x-python",
   "name": "python",
   "nbconvert_exporter": "python",
   "pygments_lexer": "ipython2",
   "version": "2.7.11"
  }
 },
 "nbformat": 4,
 "nbformat_minor": 0
}
