{
 "cells": [
  {
   "cell_type": "code",
   "execution_count": 1,
   "metadata": {
    "collapsed": true
   },
   "outputs": [],
   "source": [
    "## Access SQL, grab data from relevant subreddits & read into python\n",
    "# Pull comments from the subreddits to feed to Mech Turk."
   ]
  },
  {
   "cell_type": "code",
   "execution_count": 1,
   "metadata": {
    "collapsed": true
   },
   "outputs": [],
   "source": [
    "import sqlite3\n",
    "import pandas as pd"
   ]
  },
  {
   "cell_type": "code",
   "execution_count": 2,
   "metadata": {
    "collapsed": true
   },
   "outputs": [],
   "source": [
    "# connect to sqlite db\n",
    "sqlite_file = '/Volumes/ja2/ja2_RedditProject/Data/database.sqlite'\n",
    "conn = sqlite3.connect(sqlite_file)\n",
    "c = conn.cursor()"
   ]
  },
  {
   "cell_type": "code",
   "execution_count": 3,
   "metadata": {
    "collapsed": true
   },
   "outputs": [],
   "source": [
    "# List of not hateful subreddits\n",
    "final_nothate_srs = [ 'politics', 'worldnews', 'history', 'blackladies', 'lgbt',\n",
    "               'TransSpace', 'women', 'TwoXChromosomes', 'DebateReligion','religion',\n",
    "               'islam', 'Judaism', 'BodyAcceptance', 'fatlogic'\n",
    "                ]"
   ]
  },
  {
   "cell_type": "code",
   "execution_count": 4,
   "metadata": {
    "collapsed": true
   },
   "outputs": [],
   "source": [
    "# List of hateful subreddits\n",
    "final_hateful_srs = ['CoonTown', 'WhiteRights', 'Trans_fags', 'SlutJustice',\n",
    "               'TheRedPill','KotakuInAction', 'IslamUnveiled', 'GasTheKikes',\n",
    "               'AntiPOZi', 'fatpeoplehate', 'TalesofFatHate']"
   ]
  },
  {
   "cell_type": "markdown",
   "metadata": {},
   "source": [
    "### Want to pull ~the same number of comments for each type of hate.\n",
    "### For Mech Turk test, try using 100 total comments, grabbed only from hateful subreddits.\n"
   ]
  },
  {
   "cell_type": "code",
   "execution_count": 5,
   "metadata": {
    "collapsed": false
   },
   "outputs": [],
   "source": [
    "# Example of SQL query:\n",
    "# SELECT id, body FROM May2015 WHERE subreddit = 'WhiteRights' AND length(body)>20 ORDER BY Random() LIMIT 10;"
   ]
  },
  {
   "cell_type": "code",
   "execution_count": 6,
   "metadata": {
    "collapsed": false
   },
   "outputs": [
    {
     "name": "stdout",
     "output_type": "stream",
     "text": [
      "Good to go!\n"
     ]
    }
   ],
   "source": [
    "# List of # of entries to extract from each subreddit\n",
    "\n",
    "num_entries = [19, 1, 20, 1, 6, 13, 1, 3, 16, 19, 1]\n",
    "\n",
    "if len(num_entries)==len(final_hateful_srs):\n",
    "    print \"Good to go!\""
   ]
  },
  {
   "cell_type": "code",
   "execution_count": 7,
   "metadata": {
    "collapsed": false
   },
   "outputs": [],
   "source": [
    "# Build query to extract specific numbers from specific subreddits\n",
    "query = []\n",
    "for i in range(len(final_hateful_srs)):\n",
    "    query.append(\"SELECT subreddit,id, name, body FROM MAY2015 WHERE \\\n",
    "                subreddit = '\"+final_hateful_srs[i]+\"'AND length(body)>20 \\\n",
    "                ORDER BY Random() LIMIT \"+ str(num_entries[i])+ \";\")"
   ]
  },
  {
   "cell_type": "code",
   "execution_count": 8,
   "metadata": {
    "collapsed": false
   },
   "outputs": [
    {
     "data": {
      "text/plain": [
       "[\"SELECT subreddit,id, name, body FROM MAY2015 WHERE                 subreddit = 'CoonTown'AND length(body)>20                 ORDER BY Random() LIMIT 19;\",\n",
       " \"SELECT subreddit,id, name, body FROM MAY2015 WHERE                 subreddit = 'WhiteRights'AND length(body)>20                 ORDER BY Random() LIMIT 1;\",\n",
       " \"SELECT subreddit,id, name, body FROM MAY2015 WHERE                 subreddit = 'Trans_fags'AND length(body)>20                 ORDER BY Random() LIMIT 20;\",\n",
       " \"SELECT subreddit,id, name, body FROM MAY2015 WHERE                 subreddit = 'SlutJustice'AND length(body)>20                 ORDER BY Random() LIMIT 1;\",\n",
       " \"SELECT subreddit,id, name, body FROM MAY2015 WHERE                 subreddit = 'TheRedPill'AND length(body)>20                 ORDER BY Random() LIMIT 6;\",\n",
       " \"SELECT subreddit,id, name, body FROM MAY2015 WHERE                 subreddit = 'KotakuInAction'AND length(body)>20                 ORDER BY Random() LIMIT 13;\",\n",
       " \"SELECT subreddit,id, name, body FROM MAY2015 WHERE                 subreddit = 'IslamUnveiled'AND length(body)>20                 ORDER BY Random() LIMIT 1;\",\n",
       " \"SELECT subreddit,id, name, body FROM MAY2015 WHERE                 subreddit = 'GasTheKikes'AND length(body)>20                 ORDER BY Random() LIMIT 3;\",\n",
       " \"SELECT subreddit,id, name, body FROM MAY2015 WHERE                 subreddit = 'AntiPOZi'AND length(body)>20                 ORDER BY Random() LIMIT 16;\",\n",
       " \"SELECT subreddit,id, name, body FROM MAY2015 WHERE                 subreddit = 'fatpeoplehate'AND length(body)>20                 ORDER BY Random() LIMIT 19;\",\n",
       " \"SELECT subreddit,id, name, body FROM MAY2015 WHERE                 subreddit = 'TalesofFatHate'AND length(body)>20                 ORDER BY Random() LIMIT 1;\"]"
      ]
     },
     "execution_count": 8,
     "metadata": {},
     "output_type": "execute_result"
    }
   ],
   "source": [
    "query"
   ]
  },
  {
   "cell_type": "markdown",
   "metadata": {},
   "source": [
    "### Read query results into a pandas dataframe & append, so all the results are in the same data frame\n",
    "### Then export to csv for Mech Turkness."
   ]
  },
  {
   "cell_type": "code",
   "execution_count": 23,
   "metadata": {
    "collapsed": false
   },
   "outputs": [],
   "source": [
    "del df"
   ]
  },
  {
   "cell_type": "code",
   "execution_count": 24,
   "metadata": {
    "collapsed": true
   },
   "outputs": [],
   "source": [
    "# load df with the first set of results\n",
    "df = pd.read_sql_query(query[0], conn)"
   ]
  },
  {
   "cell_type": "code",
   "execution_count": 26,
   "metadata": {
    "collapsed": false
   },
   "outputs": [],
   "source": [
    "# iterate through queries and append to dataframe\n",
    "for i in range(1,len(query)):\n",
    "    df=df.append(pd.read_sql_query(query[i], conn), ignore_index=True)"
   ]
  },
  {
   "cell_type": "code",
   "execution_count": 27,
   "metadata": {
    "collapsed": false
   },
   "outputs": [
    {
     "data": {
      "text/html": [
       "<div>\n",
       "<table border=\"1\" class=\"dataframe\">\n",
       "  <thead>\n",
       "    <tr style=\"text-align: right;\">\n",
       "      <th></th>\n",
       "      <th>subreddit</th>\n",
       "      <th>id</th>\n",
       "      <th>name</th>\n",
       "      <th>body</th>\n",
       "    </tr>\n",
       "  </thead>\n",
       "  <tbody>\n",
       "    <tr>\n",
       "      <th>0</th>\n",
       "      <td>CoonTown</td>\n",
       "      <td>cr2ozhd</td>\n",
       "      <td>t1_cr2ozhd</td>\n",
       "      <td>Obama has a new program for minorities.\\n\\nWe ...</td>\n",
       "    </tr>\n",
       "    <tr>\n",
       "      <th>1</th>\n",
       "      <td>CoonTown</td>\n",
       "      <td>crh9mf2</td>\n",
       "      <td>t1_crh9mf2</td>\n",
       "      <td>I'll be in Barcelona in two days, I'll pm you ...</td>\n",
       "    </tr>\n",
       "    <tr>\n",
       "      <th>2</th>\n",
       "      <td>CoonTown</td>\n",
       "      <td>cr80aqq</td>\n",
       "      <td>t1_cr80aqq</td>\n",
       "      <td>They can call me all the names they want, don'...</td>\n",
       "    </tr>\n",
       "    <tr>\n",
       "      <th>3</th>\n",
       "      <td>CoonTown</td>\n",
       "      <td>cqxy5zj</td>\n",
       "      <td>t1_cqxy5zj</td>\n",
       "      <td>Forty stacks all neatly arranged in shitty Zip...</td>\n",
       "    </tr>\n",
       "    <tr>\n",
       "      <th>4</th>\n",
       "      <td>CoonTown</td>\n",
       "      <td>crjpeii</td>\n",
       "      <td>t1_crjpeii</td>\n",
       "      <td>&amp;gt; (One that fought me was a wetback not a t...</td>\n",
       "    </tr>\n",
       "    <tr>\n",
       "      <th>5</th>\n",
       "      <td>CoonTown</td>\n",
       "      <td>crk7g83</td>\n",
       "      <td>t1_crk7g83</td>\n",
       "      <td>Cause they dindu nuffin! \"Jus cause i robbed t...</td>\n",
       "    </tr>\n",
       "    <tr>\n",
       "      <th>6</th>\n",
       "      <td>CoonTown</td>\n",
       "      <td>cqzyrxu</td>\n",
       "      <td>t1_cqzyrxu</td>\n",
       "      <td>There is much truth in what you say.  \\n\\n13% ...</td>\n",
       "    </tr>\n",
       "    <tr>\n",
       "      <th>7</th>\n",
       "      <td>CoonTown</td>\n",
       "      <td>cred760</td>\n",
       "      <td>t1_cred760</td>\n",
       "      <td>Just pointing out that vanilla is actually dar...</td>\n",
       "    </tr>\n",
       "    <tr>\n",
       "      <th>8</th>\n",
       "      <td>CoonTown</td>\n",
       "      <td>cr6mi56</td>\n",
       "      <td>t1_cr6mi56</td>\n",
       "      <td>Those are the usual type of faces you won't se...</td>\n",
       "    </tr>\n",
       "    <tr>\n",
       "      <th>9</th>\n",
       "      <td>CoonTown</td>\n",
       "      <td>crcq8a0</td>\n",
       "      <td>t1_crcq8a0</td>\n",
       "      <td>\"Go back to coontown you honkey\"\\nSure! I love...</td>\n",
       "    </tr>\n",
       "    <tr>\n",
       "      <th>10</th>\n",
       "      <td>CoonTown</td>\n",
       "      <td>cr0s3eo</td>\n",
       "      <td>t1_cr0s3eo</td>\n",
       "      <td>OOK OOK EEK EEK\\n\\nReread your post and maybe ...</td>\n",
       "    </tr>\n",
       "    <tr>\n",
       "      <th>11</th>\n",
       "      <td>CoonTown</td>\n",
       "      <td>cre7ya1</td>\n",
       "      <td>t1_cre7ya1</td>\n",
       "      <td>&amp;gt;The mixing does matter\\n\\nDid*\\n&amp;gt;They a...</td>\n",
       "    </tr>\n",
       "    <tr>\n",
       "      <th>12</th>\n",
       "      <td>CoonTown</td>\n",
       "      <td>crb7x7x</td>\n",
       "      <td>t1_crb7x7x</td>\n",
       "      <td>It's interesting how niggers think that bodyca...</td>\n",
       "    </tr>\n",
       "    <tr>\n",
       "      <th>13</th>\n",
       "      <td>CoonTown</td>\n",
       "      <td>cr42glk</td>\n",
       "      <td>t1_cr42glk</td>\n",
       "      <td>Its ok Jamal, we already knew this. Thats why ...</td>\n",
       "    </tr>\n",
       "    <tr>\n",
       "      <th>14</th>\n",
       "      <td>CoonTown</td>\n",
       "      <td>crpldij</td>\n",
       "      <td>t1_crpldij</td>\n",
       "      <td>[What in the name of god didst thou claim of m...</td>\n",
       "    </tr>\n",
       "    <tr>\n",
       "      <th>15</th>\n",
       "      <td>CoonTown</td>\n",
       "      <td>crbkrbh</td>\n",
       "      <td>t1_crbkrbh</td>\n",
       "      <td>[Indeed](http://i.imgur.com/1mvRQIp.jpg).</td>\n",
       "    </tr>\n",
       "    <tr>\n",
       "      <th>16</th>\n",
       "      <td>CoonTown</td>\n",
       "      <td>crivt9a</td>\n",
       "      <td>t1_crivt9a</td>\n",
       "      <td>***Analyzing perilousyellow***\\n\\n* comments p...</td>\n",
       "    </tr>\n",
       "    <tr>\n",
       "      <th>17</th>\n",
       "      <td>CoonTown</td>\n",
       "      <td>crgwfun</td>\n",
       "      <td>t1_crgwfun</td>\n",
       "      <td>The Spaniards are white buddy.</td>\n",
       "    </tr>\n",
       "    <tr>\n",
       "      <th>18</th>\n",
       "      <td>CoonTown</td>\n",
       "      <td>crngpky</td>\n",
       "      <td>t1_crngpky</td>\n",
       "      <td>Silly Nazi, everyone knows that the Filipinos ...</td>\n",
       "    </tr>\n",
       "    <tr>\n",
       "      <th>19</th>\n",
       "      <td>WhiteRights</td>\n",
       "      <td>crpubnv</td>\n",
       "      <td>t1_crpubnv</td>\n",
       "      <td>As always, Ann drops the ball when tying biolo...</td>\n",
       "    </tr>\n",
       "    <tr>\n",
       "      <th>20</th>\n",
       "      <td>Trans_fags</td>\n",
       "      <td>cr5z1ag</td>\n",
       "      <td>t1_cr5z1ag</td>\n",
       "      <td>Or people who ridicule scientology by revealin...</td>\n",
       "    </tr>\n",
       "    <tr>\n",
       "      <th>21</th>\n",
       "      <td>Trans_fags</td>\n",
       "      <td>crgrre2</td>\n",
       "      <td>t1_crgrre2</td>\n",
       "      <td>They'll happily bareback poz riddled dicks but...</td>\n",
       "    </tr>\n",
       "    <tr>\n",
       "      <th>22</th>\n",
       "      <td>Trans_fags</td>\n",
       "      <td>cr5mj2e</td>\n",
       "      <td>t1_cr5mj2e</td>\n",
       "      <td>Ok.... But what do you specifically get out po...</td>\n",
       "    </tr>\n",
       "    <tr>\n",
       "      <th>23</th>\n",
       "      <td>Trans_fags</td>\n",
       "      <td>cr5oc3l</td>\n",
       "      <td>t1_cr5oc3l</td>\n",
       "      <td>we're not mad, we're just disappointed. and th...</td>\n",
       "    </tr>\n",
       "    <tr>\n",
       "      <th>24</th>\n",
       "      <td>Trans_fags</td>\n",
       "      <td>cr6xln3</td>\n",
       "      <td>t1_cr6xln3</td>\n",
       "      <td>Go fuck your mutilated penis hole.  Useless de...</td>\n",
       "    </tr>\n",
       "    <tr>\n",
       "      <th>25</th>\n",
       "      <td>Trans_fags</td>\n",
       "      <td>creautq</td>\n",
       "      <td>t1_creautq</td>\n",
       "      <td>yo, are you sure this sub will get banned? /r/...</td>\n",
       "    </tr>\n",
       "    <tr>\n",
       "      <th>26</th>\n",
       "      <td>Trans_fags</td>\n",
       "      <td>cr6v6w5</td>\n",
       "      <td>t1_cr6v6w5</td>\n",
       "      <td>Just love that song, thought you might like it...</td>\n",
       "    </tr>\n",
       "    <tr>\n",
       "      <th>27</th>\n",
       "      <td>Trans_fags</td>\n",
       "      <td>croksmq</td>\n",
       "      <td>t1_croksmq</td>\n",
       "      <td>&amp;gt; Firstly, the burden of proof is on you to...</td>\n",
       "    </tr>\n",
       "    <tr>\n",
       "      <th>28</th>\n",
       "      <td>Trans_fags</td>\n",
       "      <td>crfinh1</td>\n",
       "      <td>t1_crfinh1</td>\n",
       "      <td>Good shit man. Id love to read them.</td>\n",
       "    </tr>\n",
       "    <tr>\n",
       "      <th>29</th>\n",
       "      <td>Trans_fags</td>\n",
       "      <td>cr546nr</td>\n",
       "      <td>t1_cr546nr</td>\n",
       "      <td>realtalk for a second, i ain't that girl at all.</td>\n",
       "    </tr>\n",
       "    <tr>\n",
       "      <th>...</th>\n",
       "      <td>...</td>\n",
       "      <td>...</td>\n",
       "      <td>...</td>\n",
       "      <td>...</td>\n",
       "    </tr>\n",
       "    <tr>\n",
       "      <th>70</th>\n",
       "      <td>AntiPOZi</td>\n",
       "      <td>crclu73</td>\n",
       "      <td>t1_crclu73</td>\n",
       "      <td>my dude. was gonna post this as well.</td>\n",
       "    </tr>\n",
       "    <tr>\n",
       "      <th>71</th>\n",
       "      <td>AntiPOZi</td>\n",
       "      <td>crho41c</td>\n",
       "      <td>t1_crho41c</td>\n",
       "      <td>Same as \"help! the Jews are destroying everyth...</td>\n",
       "    </tr>\n",
       "    <tr>\n",
       "      <th>72</th>\n",
       "      <td>AntiPOZi</td>\n",
       "      <td>crob2i1</td>\n",
       "      <td>t1_crob2i1</td>\n",
       "      <td>Thats true and i think some of those people ne...</td>\n",
       "    </tr>\n",
       "    <tr>\n",
       "      <th>73</th>\n",
       "      <td>AntiPOZi</td>\n",
       "      <td>crf9ifp</td>\n",
       "      <td>t1_crf9ifp</td>\n",
       "      <td>Why do you think they have that half groid jap...</td>\n",
       "    </tr>\n",
       "    <tr>\n",
       "      <th>74</th>\n",
       "      <td>AntiPOZi</td>\n",
       "      <td>crn9ilv</td>\n",
       "      <td>t1_crn9ilv</td>\n",
       "      <td>America will be in full-scale collapse in a fe...</td>\n",
       "    </tr>\n",
       "    <tr>\n",
       "      <th>75</th>\n",
       "      <td>AntiPOZi</td>\n",
       "      <td>cr1rr76</td>\n",
       "      <td>t1_cr1rr76</td>\n",
       "      <td>If she’s a troll she’s doing a great job. We g...</td>\n",
       "    </tr>\n",
       "    <tr>\n",
       "      <th>76</th>\n",
       "      <td>AntiPOZi</td>\n",
       "      <td>crbdzzo</td>\n",
       "      <td>t1_crbdzzo</td>\n",
       "      <td>The syphilis must be destroying his brain and ...</td>\n",
       "    </tr>\n",
       "    <tr>\n",
       "      <th>77</th>\n",
       "      <td>AntiPOZi</td>\n",
       "      <td>cr1uxnw</td>\n",
       "      <td>t1_cr1uxnw</td>\n",
       "      <td>* \"I'm just like you, you have no basis to dis...</td>\n",
       "    </tr>\n",
       "    <tr>\n",
       "      <th>78</th>\n",
       "      <td>AntiPOZi</td>\n",
       "      <td>crilqsq</td>\n",
       "      <td>t1_crilqsq</td>\n",
       "      <td>good luck finding any neg holes on our mods, f...</td>\n",
       "    </tr>\n",
       "    <tr>\n",
       "      <th>79</th>\n",
       "      <td>AntiPOZi</td>\n",
       "      <td>cr76oa5</td>\n",
       "      <td>t1_cr76oa5</td>\n",
       "      <td>If it ever comes to that, I am throwing away a...</td>\n",
       "    </tr>\n",
       "    <tr>\n",
       "      <th>80</th>\n",
       "      <td>fatpeoplehate</td>\n",
       "      <td>cr19b9t</td>\n",
       "      <td>t1_cr19b9t</td>\n",
       "      <td>LOL\\n\\nI was just browsing vevo MVs on youtube...</td>\n",
       "    </tr>\n",
       "    <tr>\n",
       "      <th>81</th>\n",
       "      <td>fatpeoplehate</td>\n",
       "      <td>crf5ze8</td>\n",
       "      <td>t1_crf5ze8</td>\n",
       "      <td>\"You've lost my money before you ever got it\"\\...</td>\n",
       "    </tr>\n",
       "    <tr>\n",
       "      <th>82</th>\n",
       "      <td>fatpeoplehate</td>\n",
       "      <td>cr7myen</td>\n",
       "      <td>t1_cr7myen</td>\n",
       "      <td>Ohh no, if you say what they want to hear I do...</td>\n",
       "    </tr>\n",
       "    <tr>\n",
       "      <th>83</th>\n",
       "      <td>fatpeoplehate</td>\n",
       "      <td>crfeeoz</td>\n",
       "      <td>t1_crfeeoz</td>\n",
       "      <td>I'm a bit late, but keep being fantastic OP</td>\n",
       "    </tr>\n",
       "    <tr>\n",
       "      <th>84</th>\n",
       "      <td>fatpeoplehate</td>\n",
       "      <td>cqyn3il</td>\n",
       "      <td>t1_cqyn3il</td>\n",
       "      <td>Well then why the fuck is she dressed like that?</td>\n",
       "    </tr>\n",
       "    <tr>\n",
       "      <th>85</th>\n",
       "      <td>fatpeoplehate</td>\n",
       "      <td>crcmsxs</td>\n",
       "      <td>t1_crcmsxs</td>\n",
       "      <td>I have my laptop set up on little folding tabl...</td>\n",
       "    </tr>\n",
       "    <tr>\n",
       "      <th>86</th>\n",
       "      <td>fatpeoplehate</td>\n",
       "      <td>crjrn55</td>\n",
       "      <td>t1_crjrn55</td>\n",
       "      <td>It's from their movie \"Meaning of Life\" I can'...</td>\n",
       "    </tr>\n",
       "    <tr>\n",
       "      <th>87</th>\n",
       "      <td>fatpeoplehate</td>\n",
       "      <td>cr9p9ww</td>\n",
       "      <td>t1_cr9p9ww</td>\n",
       "      <td>Some of these might actually be cute on a huma...</td>\n",
       "    </tr>\n",
       "    <tr>\n",
       "      <th>88</th>\n",
       "      <td>fatpeoplehate</td>\n",
       "      <td>cqvtnn2</td>\n",
       "      <td>t1_cqvtnn2</td>\n",
       "      <td>*gives op standing ovation*</td>\n",
       "    </tr>\n",
       "    <tr>\n",
       "      <th>89</th>\n",
       "      <td>fatpeoplehate</td>\n",
       "      <td>crf5ayq</td>\n",
       "      <td>t1_crf5ayq</td>\n",
       "      <td>This is what I'm interested in, jesus christ 7...</td>\n",
       "    </tr>\n",
       "    <tr>\n",
       "      <th>90</th>\n",
       "      <td>fatpeoplehate</td>\n",
       "      <td>crfh169</td>\n",
       "      <td>t1_crfh169</td>\n",
       "      <td>Probably licking its paw after a cupcake and t...</td>\n",
       "    </tr>\n",
       "    <tr>\n",
       "      <th>91</th>\n",
       "      <td>fatpeoplehate</td>\n",
       "      <td>crb273a</td>\n",
       "      <td>t1_crb273a</td>\n",
       "      <td>Just because you *can* wear yoga pants doesn't...</td>\n",
       "    </tr>\n",
       "    <tr>\n",
       "      <th>92</th>\n",
       "      <td>fatpeoplehate</td>\n",
       "      <td>cqxih3j</td>\n",
       "      <td>t1_cqxih3j</td>\n",
       "      <td>This is fatpeoplehate.</td>\n",
       "    </tr>\n",
       "    <tr>\n",
       "      <th>93</th>\n",
       "      <td>fatpeoplehate</td>\n",
       "      <td>cr9skhx</td>\n",
       "      <td>t1_cr9skhx</td>\n",
       "      <td>They are so selfish! Its so annoying when you ...</td>\n",
       "    </tr>\n",
       "    <tr>\n",
       "      <th>94</th>\n",
       "      <td>fatpeoplehate</td>\n",
       "      <td>cqwapy2</td>\n",
       "      <td>t1_cqwapy2</td>\n",
       "      <td>Fat people shouldn't be able to own pets. I do...</td>\n",
       "    </tr>\n",
       "    <tr>\n",
       "      <th>95</th>\n",
       "      <td>fatpeoplehate</td>\n",
       "      <td>crjhpb7</td>\n",
       "      <td>t1_crjhpb7</td>\n",
       "      <td>Triggered in this context directly translates ...</td>\n",
       "    </tr>\n",
       "    <tr>\n",
       "      <th>96</th>\n",
       "      <td>fatpeoplehate</td>\n",
       "      <td>crbyux8</td>\n",
       "      <td>t1_crbyux8</td>\n",
       "      <td>I have read some places that you actually burn...</td>\n",
       "    </tr>\n",
       "    <tr>\n",
       "      <th>97</th>\n",
       "      <td>fatpeoplehate</td>\n",
       "      <td>crkuxvd</td>\n",
       "      <td>t1_crkuxvd</td>\n",
       "      <td>What the FUCK does this inhuman sack of bacon ...</td>\n",
       "    </tr>\n",
       "    <tr>\n",
       "      <th>98</th>\n",
       "      <td>fatpeoplehate</td>\n",
       "      <td>crio3er</td>\n",
       "      <td>t1_crio3er</td>\n",
       "      <td>Problem is I don't think we have a list of eve...</td>\n",
       "    </tr>\n",
       "    <tr>\n",
       "      <th>99</th>\n",
       "      <td>TalesofFatHate</td>\n",
       "      <td>crhk3c9</td>\n",
       "      <td>t1_crhk3c9</td>\n",
       "      <td>Gastric Bypass is not an opportunity to a heal...</td>\n",
       "    </tr>\n",
       "  </tbody>\n",
       "</table>\n",
       "<p>100 rows × 4 columns</p>\n",
       "</div>"
      ],
      "text/plain": [
       "         subreddit       id        name  \\\n",
       "0         CoonTown  cr2ozhd  t1_cr2ozhd   \n",
       "1         CoonTown  crh9mf2  t1_crh9mf2   \n",
       "2         CoonTown  cr80aqq  t1_cr80aqq   \n",
       "3         CoonTown  cqxy5zj  t1_cqxy5zj   \n",
       "4         CoonTown  crjpeii  t1_crjpeii   \n",
       "5         CoonTown  crk7g83  t1_crk7g83   \n",
       "6         CoonTown  cqzyrxu  t1_cqzyrxu   \n",
       "7         CoonTown  cred760  t1_cred760   \n",
       "8         CoonTown  cr6mi56  t1_cr6mi56   \n",
       "9         CoonTown  crcq8a0  t1_crcq8a0   \n",
       "10        CoonTown  cr0s3eo  t1_cr0s3eo   \n",
       "11        CoonTown  cre7ya1  t1_cre7ya1   \n",
       "12        CoonTown  crb7x7x  t1_crb7x7x   \n",
       "13        CoonTown  cr42glk  t1_cr42glk   \n",
       "14        CoonTown  crpldij  t1_crpldij   \n",
       "15        CoonTown  crbkrbh  t1_crbkrbh   \n",
       "16        CoonTown  crivt9a  t1_crivt9a   \n",
       "17        CoonTown  crgwfun  t1_crgwfun   \n",
       "18        CoonTown  crngpky  t1_crngpky   \n",
       "19     WhiteRights  crpubnv  t1_crpubnv   \n",
       "20      Trans_fags  cr5z1ag  t1_cr5z1ag   \n",
       "21      Trans_fags  crgrre2  t1_crgrre2   \n",
       "22      Trans_fags  cr5mj2e  t1_cr5mj2e   \n",
       "23      Trans_fags  cr5oc3l  t1_cr5oc3l   \n",
       "24      Trans_fags  cr6xln3  t1_cr6xln3   \n",
       "25      Trans_fags  creautq  t1_creautq   \n",
       "26      Trans_fags  cr6v6w5  t1_cr6v6w5   \n",
       "27      Trans_fags  croksmq  t1_croksmq   \n",
       "28      Trans_fags  crfinh1  t1_crfinh1   \n",
       "29      Trans_fags  cr546nr  t1_cr546nr   \n",
       "..             ...      ...         ...   \n",
       "70        AntiPOZi  crclu73  t1_crclu73   \n",
       "71        AntiPOZi  crho41c  t1_crho41c   \n",
       "72        AntiPOZi  crob2i1  t1_crob2i1   \n",
       "73        AntiPOZi  crf9ifp  t1_crf9ifp   \n",
       "74        AntiPOZi  crn9ilv  t1_crn9ilv   \n",
       "75        AntiPOZi  cr1rr76  t1_cr1rr76   \n",
       "76        AntiPOZi  crbdzzo  t1_crbdzzo   \n",
       "77        AntiPOZi  cr1uxnw  t1_cr1uxnw   \n",
       "78        AntiPOZi  crilqsq  t1_crilqsq   \n",
       "79        AntiPOZi  cr76oa5  t1_cr76oa5   \n",
       "80   fatpeoplehate  cr19b9t  t1_cr19b9t   \n",
       "81   fatpeoplehate  crf5ze8  t1_crf5ze8   \n",
       "82   fatpeoplehate  cr7myen  t1_cr7myen   \n",
       "83   fatpeoplehate  crfeeoz  t1_crfeeoz   \n",
       "84   fatpeoplehate  cqyn3il  t1_cqyn3il   \n",
       "85   fatpeoplehate  crcmsxs  t1_crcmsxs   \n",
       "86   fatpeoplehate  crjrn55  t1_crjrn55   \n",
       "87   fatpeoplehate  cr9p9ww  t1_cr9p9ww   \n",
       "88   fatpeoplehate  cqvtnn2  t1_cqvtnn2   \n",
       "89   fatpeoplehate  crf5ayq  t1_crf5ayq   \n",
       "90   fatpeoplehate  crfh169  t1_crfh169   \n",
       "91   fatpeoplehate  crb273a  t1_crb273a   \n",
       "92   fatpeoplehate  cqxih3j  t1_cqxih3j   \n",
       "93   fatpeoplehate  cr9skhx  t1_cr9skhx   \n",
       "94   fatpeoplehate  cqwapy2  t1_cqwapy2   \n",
       "95   fatpeoplehate  crjhpb7  t1_crjhpb7   \n",
       "96   fatpeoplehate  crbyux8  t1_crbyux8   \n",
       "97   fatpeoplehate  crkuxvd  t1_crkuxvd   \n",
       "98   fatpeoplehate  crio3er  t1_crio3er   \n",
       "99  TalesofFatHate  crhk3c9  t1_crhk3c9   \n",
       "\n",
       "                                                 body  \n",
       "0   Obama has a new program for minorities.\\n\\nWe ...  \n",
       "1   I'll be in Barcelona in two days, I'll pm you ...  \n",
       "2   They can call me all the names they want, don'...  \n",
       "3   Forty stacks all neatly arranged in shitty Zip...  \n",
       "4   &gt; (One that fought me was a wetback not a t...  \n",
       "5   Cause they dindu nuffin! \"Jus cause i robbed t...  \n",
       "6   There is much truth in what you say.  \\n\\n13% ...  \n",
       "7   Just pointing out that vanilla is actually dar...  \n",
       "8   Those are the usual type of faces you won't se...  \n",
       "9   \"Go back to coontown you honkey\"\\nSure! I love...  \n",
       "10  OOK OOK EEK EEK\\n\\nReread your post and maybe ...  \n",
       "11  &gt;The mixing does matter\\n\\nDid*\\n&gt;They a...  \n",
       "12  It's interesting how niggers think that bodyca...  \n",
       "13  Its ok Jamal, we already knew this. Thats why ...  \n",
       "14  [What in the name of god didst thou claim of m...  \n",
       "15          [Indeed](http://i.imgur.com/1mvRQIp.jpg).  \n",
       "16  ***Analyzing perilousyellow***\\n\\n* comments p...  \n",
       "17                    The Spaniards are white buddy.   \n",
       "18  Silly Nazi, everyone knows that the Filipinos ...  \n",
       "19  As always, Ann drops the ball when tying biolo...  \n",
       "20  Or people who ridicule scientology by revealin...  \n",
       "21  They'll happily bareback poz riddled dicks but...  \n",
       "22  Ok.... But what do you specifically get out po...  \n",
       "23  we're not mad, we're just disappointed. and th...  \n",
       "24  Go fuck your mutilated penis hole.  Useless de...  \n",
       "25  yo, are you sure this sub will get banned? /r/...  \n",
       "26  Just love that song, thought you might like it...  \n",
       "27  &gt; Firstly, the burden of proof is on you to...  \n",
       "28              Good shit man. Id love to read them.   \n",
       "29   realtalk for a second, i ain't that girl at all.  \n",
       "..                                                ...  \n",
       "70              my dude. was gonna post this as well.  \n",
       "71  Same as \"help! the Jews are destroying everyth...  \n",
       "72  Thats true and i think some of those people ne...  \n",
       "73  Why do you think they have that half groid jap...  \n",
       "74  America will be in full-scale collapse in a fe...  \n",
       "75  If she’s a troll she’s doing a great job. We g...  \n",
       "76  The syphilis must be destroying his brain and ...  \n",
       "77  * \"I'm just like you, you have no basis to dis...  \n",
       "78  good luck finding any neg holes on our mods, f...  \n",
       "79  If it ever comes to that, I am throwing away a...  \n",
       "80  LOL\\n\\nI was just browsing vevo MVs on youtube...  \n",
       "81  \"You've lost my money before you ever got it\"\\...  \n",
       "82  Ohh no, if you say what they want to hear I do...  \n",
       "83        I'm a bit late, but keep being fantastic OP  \n",
       "84   Well then why the fuck is she dressed like that?  \n",
       "85  I have my laptop set up on little folding tabl...  \n",
       "86  It's from their movie \"Meaning of Life\" I can'...  \n",
       "87  Some of these might actually be cute on a huma...  \n",
       "88                        *gives op standing ovation*  \n",
       "89  This is what I'm interested in, jesus christ 7...  \n",
       "90  Probably licking its paw after a cupcake and t...  \n",
       "91  Just because you *can* wear yoga pants doesn't...  \n",
       "92                             This is fatpeoplehate.  \n",
       "93  They are so selfish! Its so annoying when you ...  \n",
       "94  Fat people shouldn't be able to own pets. I do...  \n",
       "95  Triggered in this context directly translates ...  \n",
       "96  I have read some places that you actually burn...  \n",
       "97  What the FUCK does this inhuman sack of bacon ...  \n",
       "98  Problem is I don't think we have a list of eve...  \n",
       "99  Gastric Bypass is not an opportunity to a heal...  \n",
       "\n",
       "[100 rows x 4 columns]"
      ]
     },
     "execution_count": 27,
     "metadata": {},
     "output_type": "execute_result"
    }
   ],
   "source": [
    "df"
   ]
  },
  {
   "cell_type": "code",
   "execution_count": 33,
   "metadata": {
    "collapsed": false
   },
   "outputs": [],
   "source": [
    "df.to_csv('MechTurkTest_20char.csv', encoding='utf-8')\n"
   ]
  },
  {
   "cell_type": "code",
   "execution_count": 32,
   "metadata": {
    "collapsed": false
   },
   "outputs": [
    {
     "data": {
      "text/plain": [
       "u'/Users/emily/Documents/Galvanize/Project/OnlineHateSpeech'"
      ]
     },
     "execution_count": 32,
     "metadata": {},
     "output_type": "execute_result"
    }
   ],
   "source": [
    "pwd"
   ]
  },
  {
   "cell_type": "code",
   "execution_count": 34,
   "metadata": {
    "collapsed": true
   },
   "outputs": [],
   "source": [
    "# Repeat the process with other lengths of messages. \n",
    "# Try 30.\n",
    "\n",
    "query = []\n",
    "for i in range(len(final_hateful_srs)):\n",
    "    query.append(\"SELECT subreddit,id, name, body FROM MAY2015 WHERE \\\n",
    "                subreddit = '\"+final_hateful_srs[i]+\"'AND length(body)>30 \\\n",
    "                ORDER BY Random() LIMIT \"+ str(num_entries[i])+ \";\")\n",
    "    \n",
    "# load df with the first set of results\n",
    "df30 = pd.read_sql_query(query[0], conn)\n",
    "# iterate through queries and append to dataframe\n",
    "for i in range(1,len(query)):\n",
    "    df30=df30.append(pd.read_sql_query(query[i], conn), ignore_index=True)"
   ]
  },
  {
   "cell_type": "code",
   "execution_count": 35,
   "metadata": {
    "collapsed": true
   },
   "outputs": [],
   "source": [
    "df30.to_csv('MechTurkTest_30char.csv', encoding='utf-8')"
   ]
  },
  {
   "cell_type": "code",
   "execution_count": 36,
   "metadata": {
    "collapsed": true
   },
   "outputs": [],
   "source": [
    "# Repeat the process with other lengths of messages. \n",
    "# Try 40.\n",
    "\n",
    "query = []\n",
    "for i in range(len(final_hatxeful_srs)):\n",
    "    query.append(\"SELECT subreddit,id, name, body FROM MAY2015 WHERE \\\n",
    "                subreddit = '\"+final_hateful_srs[i]+\"'AND length(body)>40 \\\n",
    "                ORDER BY Random() LIMIT \"+ str(num_entries[i])+ \";\")\n",
    "    \n",
    "# load df with the first set of results\n",
    "df40 = pd.read_sql_query(query[0], conn)\n",
    "# iterate through queries and append to dataframe\n",
    "for i in range(1,len(query)):\n",
    "    df40=df40.append(pd.read_sql_query(query[i], conn), ignore_index=True)"
   ]
  },
  {
   "cell_type": "code",
   "execution_count": 37,
   "metadata": {
    "collapsed": true
   },
   "outputs": [],
   "source": [
    "df40.to_csv('MechTurkTest_40char.csv', encoding='utf-8')"
   ]
  },
  {
   "cell_type": "code",
   "execution_count": 38,
   "metadata": {
    "collapsed": true
   },
   "outputs": [],
   "source": [
    "# Repeat the process with other lengths of messages. \n",
    "# And 50\n",
    "\n",
    "query = []\n",
    "for i in range(len(final_hateful_srs)):\n",
    "    query.append(\"SELECT subreddit,id, name, body FROM MAY2015 WHERE \\\n",
    "                subreddit = '\"+final_hateful_srs[i]+\"'AND length(body)>50 \\\n",
    "                ORDER BY Random() LIMIT \"+ str(num_entries[i])+ \";\")\n",
    "    \n",
    "# load df with the first set of results\n",
    "df50 = pd.read_sql_query(query[0], conn)\n",
    "# iterate through queries and append to dataframe\n",
    "for i in range(1,len(query)):\n",
    "    df50=df50.append(pd.read_sql_query(query[i], conn), ignore_index=True)"
   ]
  },
  {
   "cell_type": "code",
   "execution_count": 39,
   "metadata": {
    "collapsed": true
   },
   "outputs": [],
   "source": [
    "df50.to_csv('MechTurkTest_50char.csv', encoding='utf-8')"
   ]
  },
  {
   "cell_type": "code",
   "execution_count": null,
   "metadata": {
    "collapsed": true
   },
   "outputs": [],
   "source": []
  },
  {
   "cell_type": "code",
   "execution_count": null,
   "metadata": {
    "collapsed": true
   },
   "outputs": [],
   "source": []
  },
  {
   "cell_type": "code",
   "execution_count": null,
   "metadata": {
    "collapsed": true
   },
   "outputs": [],
   "source": []
  },
  {
   "cell_type": "code",
   "execution_count": 40,
   "metadata": {
    "collapsed": false
   },
   "outputs": [],
   "source": [
    "# Build queries and find counts for all the subreddits\n",
    "#Not used\n",
    "query_numbers = []\n",
    "for name in srs:\n",
    "    query_numbers.append(\"SELECT COUNT(*) FROM May2015 WHERE subreddit = '\" +name+ \"' ;\")\n",
    "    \n",
    "commentcounts = []\n",
    "\n",
    "for query in query_numbers:\n",
    "    c.execute(query)\n",
    "    count = c.fetchall()\n",
    "    commentcounts.append(count[0][0])"
   ]
  },
  {
   "cell_type": "code",
   "execution_count": 41,
   "metadata": {
    "collapsed": false
   },
   "outputs": [],
   "source": [
    "# Combine list of counts with list of subreddits\n",
    "# creates tuple\n",
    "# Not used\n",
    "sr_wcounts = zip(srs, commentcounts)"
   ]
  },
  {
   "cell_type": "code",
   "execution_count": 42,
   "metadata": {
    "collapsed": false
   },
   "outputs": [
    {
     "data": {
      "text/plain": [
       "[('politics', 244927),\n",
       " ('worldnews', 490354),\n",
       " ('history', 25242),\n",
       " ('blackladies', 4396),\n",
       " ('lgbt', 8253),\n",
       " ('TransSpace', 472),\n",
       " ('women', 529),\n",
       " ('TwoXChromosomes', 105130),\n",
       " ('DebateReligion', 41015),\n",
       " ('religion', 2623),\n",
       " ('islam', 25443),\n",
       " ('Judaism', 9103),\n",
       " ('BodyAcceptance', 579),\n",
       " ('CoonTown', 51979),\n",
       " ('WhiteRights', 1352),\n",
       " ('Trans_fags', 2362),\n",
       " ('SlutJustice', 309),\n",
       " ('TheRedPill', 59145),\n",
       " ('KotakuInAction', 128156),\n",
       " ('IslamUnveiled', 110),\n",
       " ('GasTheKikes', 919),\n",
       " ('AntiPOZi', 4740),\n",
       " ('fatpeoplehate', 311183),\n",
       " ('TalesofFatHate', 5239)]"
      ]
     },
     "execution_count": 42,
     "metadata": {},
     "output_type": "execute_result"
    }
   ],
   "source": [
    "sr_wcounts"
   ]
  },
  {
   "cell_type": "code",
   "execution_count": 28,
   "metadata": {
    "collapsed": false
   },
   "outputs": [],
   "source": []
  },
  {
   "cell_type": "code",
   "execution_count": null,
   "metadata": {
    "collapsed": false
   },
   "outputs": [],
   "source": [
    "\n"
   ]
  },
  {
   "cell_type": "code",
   "execution_count": null,
   "metadata": {
    "collapsed": true
   },
   "outputs": [],
   "source": []
  },
  {
   "cell_type": "code",
   "execution_count": null,
   "metadata": {
    "collapsed": true
   },
   "outputs": [],
   "source": []
  },
  {
   "cell_type": "code",
   "execution_count": null,
   "metadata": {
    "collapsed": true
   },
   "outputs": [],
   "source": []
  },
  {
   "cell_type": "code",
   "execution_count": null,
   "metadata": {
    "collapsed": true
   },
   "outputs": [],
   "source": []
  },
  {
   "cell_type": "code",
   "execution_count": 39,
   "metadata": {
    "collapsed": false
   },
   "outputs": [
    {
     "name": "stderr",
     "output_type": "stream",
     "text": [
      "[autoreload of email.MIMEBase failed: Traceback (most recent call last):\n",
      "  File \"/Users/emily/anaconda/lib/python2.7/site-packages/IPython/extensions/autoreload.py\", line 247, in check\n",
      "    superreload(m, reload, self.old_objects)\n",
      "TypeError: reload() argument must be module\n",
      "]\n",
      "[autoreload of numpy.core failed: Traceback (most recent call last):\n",
      "  File \"/Users/emily/anaconda/lib/python2.7/site-packages/IPython/extensions/autoreload.py\", line 247, in check\n",
      "    superreload(m, reload, self.old_objects)\n",
      "ImportError: cannot import name multiarray\n",
      "]\n",
      "[autoreload of email.MIMEMultipart failed: Traceback (most recent call last):\n",
      "  File \"/Users/emily/anaconda/lib/python2.7/site-packages/IPython/extensions/autoreload.py\", line 247, in check\n",
      "    superreload(m, reload, self.old_objects)\n",
      "TypeError: reload() argument must be module\n",
      "]\n",
      "[autoreload of ctypes failed: Traceback (most recent call last):\n",
      "  File \"/Users/emily/anaconda/lib/python2.7/site-packages/IPython/extensions/autoreload.py\", line 247, in check\n",
      "    superreload(m, reload, self.old_objects)\n",
      "RuntimeError: maximum recursion depth exceeded while calling a Python object\n",
      "]\n",
      "[autoreload of email.Utils failed: Traceback (most recent call last):\n",
      "  File \"/Users/emily/anaconda/lib/python2.7/site-packages/IPython/extensions/autoreload.py\", line 247, in check\n",
      "    superreload(m, reload, self.old_objects)\n",
      "TypeError: reload() argument must be module\n",
      "]\n",
      "[autoreload of scipy.special failed: Traceback (most recent call last):\n",
      "  File \"/Users/emily/anaconda/lib/python2.7/site-packages/IPython/extensions/autoreload.py\", line 247, in check\n",
      "    superreload(m, reload, self.old_objects)\n",
      "ImportError: cannot import name specfun\n",
      "]\n",
      "[autoreload of numpy.ma.extras failed: Traceback (most recent call last):\n",
      "  File \"/Users/emily/anaconda/lib/python2.7/site-packages/IPython/extensions/autoreload.py\", line 247, in check\n",
      "    superreload(m, reload, self.old_objects)\n",
      "ImportError: cannot import name dot\n",
      "]\n",
      "[autoreload of email.FeedParser failed: Traceback (most recent call last):\n",
      "  File \"/Users/emily/anaconda/lib/python2.7/site-packages/IPython/extensions/autoreload.py\", line 247, in check\n",
      "    superreload(m, reload, self.old_objects)\n",
      "TypeError: reload() argument must be module\n",
      "]\n",
      "[autoreload of email.MIMEMessage failed: Traceback (most recent call last):\n",
      "  File \"/Users/emily/anaconda/lib/python2.7/site-packages/IPython/extensions/autoreload.py\", line 247, in check\n",
      "    superreload(m, reload, self.old_objects)\n",
      "TypeError: reload() argument must be module\n",
      "]\n",
      "[autoreload of scipy.misc failed: Traceback (most recent call last):\n",
      "  File \"/Users/emily/anaconda/lib/python2.7/site-packages/IPython/extensions/autoreload.py\", line 247, in check\n",
      "    superreload(m, reload, self.old_objects)\n",
      "ImportError: cannot import name doccer\n",
      "]\n",
      "[autoreload of email.MIMEImage failed: Traceback (most recent call last):\n",
      "  File \"/Users/emily/anaconda/lib/python2.7/site-packages/IPython/extensions/autoreload.py\", line 247, in check\n",
      "    superreload(m, reload, self.old_objects)\n",
      "TypeError: reload() argument must be module\n",
      "]\n",
      "[autoreload of email.Message failed: Traceback (most recent call last):\n",
      "  File \"/Users/emily/anaconda/lib/python2.7/site-packages/IPython/extensions/autoreload.py\", line 247, in check\n",
      "    superreload(m, reload, self.old_objects)\n",
      "TypeError: reload() argument must be module\n",
      "]\n",
      "[autoreload of email.MIMENonMultipart failed: Traceback (most recent call last):\n",
      "  File \"/Users/emily/anaconda/lib/python2.7/site-packages/IPython/extensions/autoreload.py\", line 247, in check\n",
      "    superreload(m, reload, self.old_objects)\n",
      "TypeError: reload() argument must be module\n",
      "]\n",
      "[autoreload of email.Parser failed: Traceback (most recent call last):\n",
      "  File \"/Users/emily/anaconda/lib/python2.7/site-packages/IPython/extensions/autoreload.py\", line 247, in check\n",
      "    superreload(m, reload, self.old_objects)\n",
      "TypeError: reload() argument must be module\n",
      "]\n",
      "[autoreload of email.Generator failed: Traceback (most recent call last):\n",
      "  File \"/Users/emily/anaconda/lib/python2.7/site-packages/IPython/extensions/autoreload.py\", line 247, in check\n",
      "    superreload(m, reload, self.old_objects)\n",
      "TypeError: reload() argument must be module\n",
      "]\n",
      "[autoreload of email.MIMEAudio failed: Traceback (most recent call last):\n",
      "  File \"/Users/emily/anaconda/lib/python2.7/site-packages/IPython/extensions/autoreload.py\", line 247, in check\n",
      "    superreload(m, reload, self.old_objects)\n",
      "TypeError: reload() argument must be module\n",
      "]\n",
      "[autoreload of email.Iterators failed: Traceback (most recent call last):\n",
      "  File \"/Users/emily/anaconda/lib/python2.7/site-packages/IPython/extensions/autoreload.py\", line 247, in check\n",
      "    superreload(m, reload, self.old_objects)\n",
      "TypeError: reload() argument must be module\n",
      "]\n",
      "[autoreload of email.Charset failed: Traceback (most recent call last):\n",
      "  File \"/Users/emily/anaconda/lib/python2.7/site-packages/IPython/extensions/autoreload.py\", line 247, in check\n",
      "    superreload(m, reload, self.old_objects)\n",
      "TypeError: reload() argument must be module\n",
      "]\n",
      "[autoreload of email.quopriMIME failed: Traceback (most recent call last):\n",
      "  File \"/Users/emily/anaconda/lib/python2.7/site-packages/IPython/extensions/autoreload.py\", line 247, in check\n",
      "    superreload(m, reload, self.old_objects)\n",
      "TypeError: reload() argument must be module\n",
      "]\n",
      "[autoreload of unittest.loader failed: Traceback (most recent call last):\n",
      "  File \"/Users/emily/anaconda/lib/python2.7/site-packages/IPython/extensions/autoreload.py\", line 247, in check\n",
      "    superreload(m, reload, self.old_objects)\n",
      "ImportError: cannot import name case\n",
      "]\n",
      "[autoreload of email.Errors failed: Traceback (most recent call last):\n",
      "  File \"/Users/emily/anaconda/lib/python2.7/site-packages/IPython/extensions/autoreload.py\", line 247, in check\n",
      "    superreload(m, reload, self.old_objects)\n",
      "TypeError: reload() argument must be module\n",
      "]\n",
      "[autoreload of email.Header failed: Traceback (most recent call last):\n",
      "  File \"/Users/emily/anaconda/lib/python2.7/site-packages/IPython/extensions/autoreload.py\", line 247, in check\n",
      "    superreload(m, reload, self.old_objects)\n",
      "TypeError: reload() argument must be module\n",
      "]\n",
      "[autoreload of unittest.suite failed: Traceback (most recent call last):\n",
      "  File \"/Users/emily/anaconda/lib/python2.7/site-packages/IPython/extensions/autoreload.py\", line 247, in check\n",
      "    superreload(m, reload, self.old_objects)\n",
      "ImportError: cannot import name case\n",
      "]\n",
      "[autoreload of email.MIMEText failed: Traceback (most recent call last):\n",
      "  File \"/Users/emily/anaconda/lib/python2.7/site-packages/IPython/extensions/autoreload.py\", line 247, in check\n",
      "    superreload(m, reload, self.old_objects)\n",
      "TypeError: reload() argument must be module\n",
      "]\n",
      "[autoreload of scipy.sparse.compressed failed: Traceback (most recent call last):\n",
      "  File \"/Users/emily/anaconda/lib/python2.7/site-packages/IPython/extensions/autoreload.py\", line 247, in check\n",
      "    superreload(m, reload, self.old_objects)\n",
      "ImportError: cannot import name _sparsetools\n",
      "]\n",
      "[autoreload of encodings failed: Traceback (most recent call last):\n",
      "  File \"/Users/emily/anaconda/lib/python2.7/site-packages/IPython/extensions/autoreload.py\", line 247, in check\n",
      "    superreload(m, reload, self.old_objects)\n",
      "ImportError: cannot import name aliases\n",
      "]\n",
      "[autoreload of scipy.stats failed: Traceback (most recent call last):\n",
      "  File \"/Users/emily/anaconda/lib/python2.7/site-packages/IPython/extensions/autoreload.py\", line 247, in check\n",
      "    superreload(m, reload, self.old_objects)\n",
      "ImportError: cannot import name mstats\n",
      "]\n",
      "[autoreload of scipy.sparse.bsr failed: Traceback (most recent call last):\n",
      "  File \"/Users/emily/anaconda/lib/python2.7/site-packages/IPython/extensions/autoreload.py\", line 247, in check\n",
      "    superreload(m, reload, self.old_objects)\n",
      "ImportError: cannot import name _sparsetools\n",
      "]\n",
      "[autoreload of email.base64MIME failed: Traceback (most recent call last):\n",
      "  File \"/Users/emily/anaconda/lib/python2.7/site-packages/IPython/extensions/autoreload.py\", line 247, in check\n",
      "    superreload(m, reload, self.old_objects)\n",
      "TypeError: reload() argument must be module\n",
      "]\n",
      "[autoreload of unittest.runner failed: Traceback (most recent call last):\n",
      "  File \"/Users/emily/anaconda/lib/python2.7/site-packages/IPython/extensions/autoreload.py\", line 247, in check\n",
      "    superreload(m, reload, self.old_objects)\n",
      "ImportError: cannot import name result\n",
      "]\n",
      "[autoreload of email.Encoders failed: Traceback (most recent call last):\n",
      "  File \"/Users/emily/anaconda/lib/python2.7/site-packages/IPython/extensions/autoreload.py\", line 247, in check\n",
      "    superreload(m, reload, self.old_objects)\n",
      "TypeError: reload() argument must be module\n",
      "]\n"
     ]
    },
    {
     "ename": "AttributeError",
     "evalue": "'module' object has no attribute '_ipython_cache'",
     "output_type": "error",
     "traceback": [
      "Traceback (most recent call last):\n",
      "  File \"/Users/emily/anaconda/lib/python2.7/site-packages/IPython/kernel/zmq/ipkernel.py\", line 181, in do_execute\n    shell.run_cell(code, store_history=store_history, silent=silent)\n",
      "  File \"/Users/emily/anaconda/lib/python2.7/site-packages/IPython/core/interactiveshell.py\", line 2837, in run_cell\n    cell_name = self.compile.cache(cell, self.execution_count)\n",
      "  File \"/Users/emily/anaconda/lib/python2.7/site-packages/IPython/core/compilerop.py\", line 134, in cache\n    linecache._ipython_cache[name] = entry\n",
      "AttributeError: 'module' object has no attribute '_ipython_cache'\n"
     ]
    }
   ],
   "source": [
    "# Don't forget to close the connection\n",
    "conn.close()"
   ]
  },
  {
   "cell_type": "code",
   "execution_count": null,
   "metadata": {
    "collapsed": true
   },
   "outputs": [],
   "source": []
  }
 ],
 "metadata": {
  "kernelspec": {
   "display_name": "Python 2",
   "language": "python",
   "name": "python2"
  },
  "language_info": {
   "codemirror_mode": {
    "name": "ipython",
    "version": 2
   },
   "file_extension": ".py",
   "mimetype": "text/x-python",
   "name": "python",
   "nbconvert_exporter": "python",
   "pygments_lexer": "ipython2",
   "version": "2.7.10"
  }
 },
 "nbformat": 4,
 "nbformat_minor": 0
}
